{
 "cells": [
  {
   "cell_type": "markdown",
   "metadata": {},
   "source": [
    "# 信贷申请评分卡_A卡案例\n",
    "\n",
    "主要项目流程：数据获取、数据清洗、特征工程、模型建立、模型评价、模型优化等"
   ]
  },
  {
   "cell_type": "code",
   "execution_count": 1,
   "metadata": {},
   "outputs": [],
   "source": [
    "import pandas as pd"
   ]
  },
  {
   "cell_type": "markdown",
   "metadata": {},
   "source": [
    "# 1.数据获取"
   ]
  },
  {
   "cell_type": "code",
   "execution_count": 2,
   "metadata": {},
   "outputs": [],
   "source": [
    "# 数据基本描述：信贷申请数据--42535个样本，144个特征"
   ]
  },
  {
   "cell_type": "code",
   "execution_count": 3,
   "metadata": {},
   "outputs": [
    {
     "data": {
      "text/plain": [
       "(42535, 144)"
      ]
     },
     "execution_count": 3,
     "metadata": {},
     "output_type": "execute_result"
    }
   ],
   "source": [
    "data = pd.read_excel('LoanStats_2018Q3.xlsx')\n",
    "data.shape"
   ]
  },
  {
   "cell_type": "code",
   "execution_count": 4,
   "metadata": {},
   "outputs": [
    {
     "name": "stdout",
     "output_type": "stream",
     "text": [
      "['id', 'loan_amnt', 'funded_amnt', 'funded_amnt_inv', 'term', 'int_rate', 'installment', 'grade', 'sub_grade', 'emp_title', 'emp_length', 'home_ownership', 'annual_inc', 'verification_status', 'issue_d', 'loan_status', 'pymnt_plan', 'url', 'desc', 'purpose', 'title', 'zip_code', 'addr_state', 'dti', 'delinq_2yrs', 'earliest_cr_line', 'inq_last_6mths', 'mths_since_last_delinq', 'mths_since_last_record', 'open_acc', 'pub_rec', 'revol_bal', 'revol_util', 'total_acc', 'initial_list_status', 'out_prncp', 'out_prncp_inv', 'total_pymnt', 'total_pymnt_inv', 'total_rec_prncp', 'total_rec_int', 'total_rec_late_fee', 'recoveries', 'collection_recovery_fee', 'last_pymnt_d', 'last_pymnt_amnt', 'next_pymnt_d', 'last_credit_pull_d', 'collections_12_mths_ex_med', 'mths_since_last_major_derog', 'policy_code', 'application_type', 'annual_inc_joint', 'dti_joint', 'verification_status_joint', 'acc_now_delinq', 'tot_coll_amt', 'tot_cur_bal', 'open_acc_6m', 'open_act_il', 'open_il_12m', 'open_il_24m', 'mths_since_rcnt_il', 'total_bal_il', 'il_util', 'open_rv_12m', 'open_rv_24m', 'max_bal_bc', 'all_util', 'total_rev_hi_lim', 'inq_fi', 'total_cu_tl', 'inq_last_12m', 'acc_open_past_24mths', 'avg_cur_bal', 'bc_open_to_buy', 'bc_util', 'chargeoff_within_12_mths', 'delinq_amnt', 'mo_sin_old_il_acct', 'mo_sin_old_rev_tl_op', 'mo_sin_rcnt_rev_tl_op', 'mo_sin_rcnt_tl', 'mort_acc', 'mths_since_recent_bc', 'mths_since_recent_bc_dlq', 'mths_since_recent_inq', 'mths_since_recent_revol_delinq', 'num_accts_ever_120_pd', 'num_actv_bc_tl', 'num_actv_rev_tl', 'num_bc_sats', 'num_bc_tl', 'num_il_tl', 'num_op_rev_tl', 'num_rev_accts', 'num_rev_tl_bal_gt_0', 'num_sats', 'num_tl_120dpd_2m', 'num_tl_30dpd', 'num_tl_90g_dpd_24m', 'num_tl_op_past_12m', 'pct_tl_nvr_dlq', 'percent_bc_gt_75', 'pub_rec_bankruptcies', 'tax_liens', 'tot_hi_cred_lim', 'total_bal_ex_mort', 'total_bc_limit', 'total_il_high_credit_limit', 'revol_bal_joint', 'sec_app_earliest_cr_line', 'sec_app_inq_last_6mths', 'sec_app_mort_acc', 'sec_app_open_acc', 'sec_app_revol_util', 'sec_app_open_act_il', 'sec_app_num_rev_accts', 'sec_app_chargeoff_within_12_mths', 'sec_app_collections_12_mths_ex_med', 'sec_app_mths_since_last_major_derog', 'hardship_flag', 'hardship_type', 'hardship_reason', 'hardship_status', 'deferral_term', 'hardship_amount', 'hardship_start_date', 'hardship_end_date', 'payment_plan_start_date', 'hardship_length', 'hardship_dpd', 'hardship_loan_status', 'orig_projected_additional_accrued_interest', 'hardship_payoff_balance_amount', 'hardship_last_payment_amount', 'disbursement_method', 'debt_settlement_flag', 'debt_settlement_flag_date', 'settlement_status', 'settlement_date', 'settlement_amount', 'settlement_percentage', 'settlement_term']\n"
     ]
    }
   ],
   "source": [
    "# 特征列表\n",
    "feature_list = list(data)\n",
    "print(feature_list)"
   ]
  },
  {
   "cell_type": "code",
   "execution_count": 5,
   "metadata": {},
   "outputs": [],
   "source": [
    "df = data.copy()"
   ]
  },
  {
   "cell_type": "code",
   "execution_count": 6,
   "metadata": {
    "scrolled": true
   },
   "outputs": [
    {
     "data": {
      "text/html": [
       "<div>\n",
       "<style scoped>\n",
       "    .dataframe tbody tr th:only-of-type {\n",
       "        vertical-align: middle;\n",
       "    }\n",
       "\n",
       "    .dataframe tbody tr th {\n",
       "        vertical-align: top;\n",
       "    }\n",
       "\n",
       "    .dataframe thead th {\n",
       "        text-align: right;\n",
       "    }\n",
       "</style>\n",
       "<table border=\"1\" class=\"dataframe\">\n",
       "  <thead>\n",
       "    <tr style=\"text-align: right;\">\n",
       "      <th></th>\n",
       "      <th>id</th>\n",
       "      <th>loan_amnt</th>\n",
       "      <th>funded_amnt</th>\n",
       "      <th>funded_amnt_inv</th>\n",
       "      <th>term</th>\n",
       "      <th>int_rate</th>\n",
       "      <th>installment</th>\n",
       "      <th>grade</th>\n",
       "      <th>sub_grade</th>\n",
       "      <th>emp_title</th>\n",
       "      <th>...</th>\n",
       "      <th>hardship_payoff_balance_amount</th>\n",
       "      <th>hardship_last_payment_amount</th>\n",
       "      <th>disbursement_method</th>\n",
       "      <th>debt_settlement_flag</th>\n",
       "      <th>debt_settlement_flag_date</th>\n",
       "      <th>settlement_status</th>\n",
       "      <th>settlement_date</th>\n",
       "      <th>settlement_amount</th>\n",
       "      <th>settlement_percentage</th>\n",
       "      <th>settlement_term</th>\n",
       "    </tr>\n",
       "  </thead>\n",
       "  <tbody>\n",
       "    <tr>\n",
       "      <th>0</th>\n",
       "      <td>1</td>\n",
       "      <td>5000</td>\n",
       "      <td>5000</td>\n",
       "      <td>4975.0</td>\n",
       "      <td>36 months</td>\n",
       "      <td>0.1065</td>\n",
       "      <td>162.87</td>\n",
       "      <td>B</td>\n",
       "      <td>B2</td>\n",
       "      <td>NaN</td>\n",
       "      <td>...</td>\n",
       "      <td>NaN</td>\n",
       "      <td>NaN</td>\n",
       "      <td>Cash</td>\n",
       "      <td>N</td>\n",
       "      <td>NaT</td>\n",
       "      <td>NaN</td>\n",
       "      <td>NaT</td>\n",
       "      <td>NaN</td>\n",
       "      <td>NaN</td>\n",
       "      <td>NaN</td>\n",
       "    </tr>\n",
       "    <tr>\n",
       "      <th>1</th>\n",
       "      <td>2</td>\n",
       "      <td>2500</td>\n",
       "      <td>2500</td>\n",
       "      <td>2500.0</td>\n",
       "      <td>60 months</td>\n",
       "      <td>0.1527</td>\n",
       "      <td>59.83</td>\n",
       "      <td>C</td>\n",
       "      <td>C4</td>\n",
       "      <td>Ryder</td>\n",
       "      <td>...</td>\n",
       "      <td>NaN</td>\n",
       "      <td>NaN</td>\n",
       "      <td>Cash</td>\n",
       "      <td>N</td>\n",
       "      <td>NaT</td>\n",
       "      <td>NaN</td>\n",
       "      <td>NaT</td>\n",
       "      <td>NaN</td>\n",
       "      <td>NaN</td>\n",
       "      <td>NaN</td>\n",
       "    </tr>\n",
       "    <tr>\n",
       "      <th>2</th>\n",
       "      <td>3</td>\n",
       "      <td>2400</td>\n",
       "      <td>2400</td>\n",
       "      <td>2400.0</td>\n",
       "      <td>36 months</td>\n",
       "      <td>0.1596</td>\n",
       "      <td>84.33</td>\n",
       "      <td>C</td>\n",
       "      <td>C5</td>\n",
       "      <td>NaN</td>\n",
       "      <td>...</td>\n",
       "      <td>NaN</td>\n",
       "      <td>NaN</td>\n",
       "      <td>Cash</td>\n",
       "      <td>N</td>\n",
       "      <td>NaT</td>\n",
       "      <td>NaN</td>\n",
       "      <td>NaT</td>\n",
       "      <td>NaN</td>\n",
       "      <td>NaN</td>\n",
       "      <td>NaN</td>\n",
       "    </tr>\n",
       "    <tr>\n",
       "      <th>3</th>\n",
       "      <td>4</td>\n",
       "      <td>10000</td>\n",
       "      <td>10000</td>\n",
       "      <td>10000.0</td>\n",
       "      <td>36 months</td>\n",
       "      <td>0.1349</td>\n",
       "      <td>339.31</td>\n",
       "      <td>C</td>\n",
       "      <td>C1</td>\n",
       "      <td>AIR RESOURCES BOARD</td>\n",
       "      <td>...</td>\n",
       "      <td>NaN</td>\n",
       "      <td>NaN</td>\n",
       "      <td>Cash</td>\n",
       "      <td>N</td>\n",
       "      <td>NaT</td>\n",
       "      <td>NaN</td>\n",
       "      <td>NaT</td>\n",
       "      <td>NaN</td>\n",
       "      <td>NaN</td>\n",
       "      <td>NaN</td>\n",
       "    </tr>\n",
       "    <tr>\n",
       "      <th>4</th>\n",
       "      <td>5</td>\n",
       "      <td>3000</td>\n",
       "      <td>3000</td>\n",
       "      <td>3000.0</td>\n",
       "      <td>60 months</td>\n",
       "      <td>0.1269</td>\n",
       "      <td>67.79</td>\n",
       "      <td>B</td>\n",
       "      <td>B5</td>\n",
       "      <td>University Medical Group</td>\n",
       "      <td>...</td>\n",
       "      <td>NaN</td>\n",
       "      <td>NaN</td>\n",
       "      <td>Cash</td>\n",
       "      <td>N</td>\n",
       "      <td>NaT</td>\n",
       "      <td>NaN</td>\n",
       "      <td>NaT</td>\n",
       "      <td>NaN</td>\n",
       "      <td>NaN</td>\n",
       "      <td>NaN</td>\n",
       "    </tr>\n",
       "  </tbody>\n",
       "</table>\n",
       "<p>5 rows × 144 columns</p>\n",
       "</div>"
      ],
      "text/plain": [
       "   id  loan_amnt  funded_amnt  funded_amnt_inv        term  int_rate  \\\n",
       "0   1       5000         5000           4975.0   36 months    0.1065   \n",
       "1   2       2500         2500           2500.0   60 months    0.1527   \n",
       "2   3       2400         2400           2400.0   36 months    0.1596   \n",
       "3   4      10000        10000          10000.0   36 months    0.1349   \n",
       "4   5       3000         3000           3000.0   60 months    0.1269   \n",
       "\n",
       "   installment grade sub_grade                 emp_title       ...        \\\n",
       "0       162.87     B        B2                       NaN       ...         \n",
       "1        59.83     C        C4                     Ryder       ...         \n",
       "2        84.33     C        C5                       NaN       ...         \n",
       "3       339.31     C        C1       AIR RESOURCES BOARD       ...         \n",
       "4        67.79     B        B5  University Medical Group       ...         \n",
       "\n",
       "  hardship_payoff_balance_amount hardship_last_payment_amount  \\\n",
       "0                            NaN                          NaN   \n",
       "1                            NaN                          NaN   \n",
       "2                            NaN                          NaN   \n",
       "3                            NaN                          NaN   \n",
       "4                            NaN                          NaN   \n",
       "\n",
       "   disbursement_method debt_settlement_flag debt_settlement_flag_date  \\\n",
       "0                 Cash                    N                       NaT   \n",
       "1                 Cash                    N                       NaT   \n",
       "2                 Cash                    N                       NaT   \n",
       "3                 Cash                    N                       NaT   \n",
       "4                 Cash                    N                       NaT   \n",
       "\n",
       "  settlement_status settlement_date  settlement_amount settlement_percentage  \\\n",
       "0               NaN             NaT                NaN                   NaN   \n",
       "1               NaN             NaT                NaN                   NaN   \n",
       "2               NaN             NaT                NaN                   NaN   \n",
       "3               NaN             NaT                NaN                   NaN   \n",
       "4               NaN             NaT                NaN                   NaN   \n",
       "\n",
       "  settlement_term  \n",
       "0             NaN  \n",
       "1             NaN  \n",
       "2             NaN  \n",
       "3             NaN  \n",
       "4             NaN  \n",
       "\n",
       "[5 rows x 144 columns]"
      ]
     },
     "execution_count": 6,
     "metadata": {},
     "output_type": "execute_result"
    }
   ],
   "source": [
    "df.head()"
   ]
  },
  {
   "cell_type": "markdown",
   "metadata": {},
   "source": [
    "# 2.数据清洗"
   ]
  },
  {
   "cell_type": "code",
   "execution_count": 7,
   "metadata": {},
   "outputs": [
    {
     "name": "stdout",
     "output_type": "stream",
     "text": [
      "(42535, 144)\n"
     ]
    },
    {
     "data": {
      "text/plain": [
       "(42535, 126)"
      ]
     },
     "execution_count": 7,
     "metadata": {},
     "output_type": "execute_result"
    }
   ],
   "source": [
    "# 2.1 申请评分卡使用的数据不能是借款人借款后的信息，需删除18个特征\n",
    "del_feature_list = ['sub_grade','grade','initial_list_status','out_prncp','out_prncp_inv','total_pymnt','total_pymnt_inv',\n",
    "                    'total_rec_prncp','total_rec_int','total_rec_late_fee','recoveries','collection_recovery_fee','last_pymnt_d',\n",
    "                    'last_pymnt_amnt','last_credit_pull_d','collections_12_mths_ex_med','policy_code','disbursement_method']\n",
    "print(df.shape)\n",
    "df_01 = df.copy().drop(columns=del_feature_list, axis=1)\n",
    "df_01.shape"
   ]
  },
  {
   "cell_type": "code",
   "execution_count": 9,
   "metadata": {},
   "outputs": [
    {
     "data": {
      "text/plain": [
       "(42535, 124)"
      ]
     },
     "execution_count": 9,
     "metadata": {},
     "output_type": "execute_result"
    }
   ],
   "source": [
    "# 2.2 删除客户隐私的字段:['emp_title','title']\n",
    "customer_info = ['emp_title','title']\n",
    "df_02 = df_01.drop(columns=customer_info, axis=1)\n",
    "df_02.shape"
   ]
  },
  {
   "cell_type": "code",
   "execution_count": 10,
   "metadata": {},
   "outputs": [
    {
     "data": {
      "text/plain": [
       "(42535, 124)"
      ]
     },
     "execution_count": 10,
     "metadata": {},
     "output_type": "execute_result"
    }
   ],
   "source": [
    "# 2.3 去重，删除空行\n",
    "df_03 = df_02.drop_duplicates('id').dropna(axis=0, how='all')\n",
    "df_03.shape"
   ]
  },
  {
   "cell_type": "code",
   "execution_count": 13,
   "metadata": {},
   "outputs": [
    {
     "name": "stdout",
     "output_type": "stream",
     "text": [
      "86\n"
     ]
    },
    {
     "data": {
      "text/plain": [
       "(42535, 38)"
      ]
     },
     "execution_count": 13,
     "metadata": {},
     "output_type": "execute_result"
    }
   ],
   "source": [
    "# 2.4 删除缺失率大于0.95的字段\n",
    "# is_null = [df_03[i_feature].isnull().sum() for i_feature in list(df_03)]\n",
    "cols_null = []\n",
    "for col_null in df_03.columns:\n",
    "    if df_03[col_null].isnull().sum() > (df_03.shape[0])*0.95:\n",
    "        cols_null.append(col_null)\n",
    "print(len(cols_null))\n",
    "df_04 = df_03.drop(cols_null, axis=1)\n",
    "df_04.shape"
   ]
  },
  {
   "cell_type": "code",
   "execution_count": 27,
   "metadata": {},
   "outputs": [
    {
     "name": "stdout",
     "output_type": "stream",
     "text": [
      "['pymnt_plan', 'application_type', 'acc_now_delinq', 'chargeoff_within_12_mths', 'delinq_amnt', 'tax_liens', 'hardship_flag', 'debt_settlement_flag']\n"
     ]
    },
    {
     "data": {
      "text/plain": [
       "(42535, 30)"
      ]
     },
     "execution_count": 27,
     "metadata": {},
     "output_type": "execute_result"
    }
   ],
   "source": [
    "# 例：唯一值\n",
    "# 2.5 判断每个特征值的分布，若存在某一个值占比超过95%，则删除(分箱前提)\n",
    "col_handle = []\n",
    "for col_ in df_04.columns:\n",
    "    if df_04[col_].value_counts().max() > df_04.shape[0]*0.95:\n",
    "        col_handle.append(col_)\n",
    "print(col_handle)\n",
    "df_05 = df_04.drop(col_handle, axis=1)\n",
    "df_05.shape"
   ]
  },
  {
   "cell_type": "code",
   "execution_count": 28,
   "metadata": {},
   "outputs": [
    {
     "data": {
      "text/plain": [
       "(42535, 29)"
      ]
     },
     "execution_count": 28,
     "metadata": {},
     "output_type": "execute_result"
    }
   ],
   "source": [
    "# 2.6 删除id号\n",
    "df_06 = df_05.drop('id', axis=1)\n",
    "df_06.shape"
   ]
  },
  {
   "cell_type": "code",
   "execution_count": 29,
   "metadata": {},
   "outputs": [
    {
     "data": {
      "text/plain": [
       "Index(['loan_amnt', 'funded_amnt', 'funded_amnt_inv', 'term', 'int_rate',\n",
       "       'installment', 'emp_length', 'home_ownership', 'annual_inc',\n",
       "       'verification_status', 'issue_d', 'loan_status', 'desc', 'purpose',\n",
       "       'zip_code', 'addr_state', 'dti', 'delinq_2yrs', 'earliest_cr_line',\n",
       "       'inq_last_6mths', 'mths_since_last_delinq', 'mths_since_last_record',\n",
       "       'open_acc', 'pub_rec', 'revol_bal', 'revol_util', 'total_acc',\n",
       "       'next_pymnt_d', 'pub_rec_bankruptcies'],\n",
       "      dtype='object')"
      ]
     },
     "execution_count": 29,
     "metadata": {},
     "output_type": "execute_result"
    }
   ],
   "source": [
    "# 2.7 剩余特征列表\n",
    "df_06.columns"
   ]
  },
  {
   "cell_type": "code",
   "execution_count": 76,
   "metadata": {},
   "outputs": [
    {
     "name": "stdout",
     "output_type": "stream",
     "text": [
      "36    31534\n",
      "60    11001\n",
      "Name: term, dtype: int64\n"
     ]
    },
    {
     "data": {
      "text/plain": [
       "(31534, 29)"
      ]
     },
     "execution_count": 76,
     "metadata": {},
     "output_type": "execute_result"
    }
   ],
   "source": [
    "# 2.8 查看借款期限，并选出借款36期的样本\n",
    "print(df_06['term'].value_counts())\n",
    "df_06['term'] = df_06['term'].replace(' 36 months', 36).replace(' 60 months', 60)\n",
    "df_final = df_06[df_06['term']==36]\n",
    "df_final.shape"
   ]
  },
  {
   "cell_type": "code",
   "execution_count": 77,
   "metadata": {},
   "outputs": [
    {
     "data": {
      "text/plain": [
       "<bound method DataFrame.info of        loan_amnt  funded_amnt  funded_amnt_inv  term  int_rate  installment  \\\n",
       "0           5000         5000           4975.0    36    0.1065       162.87   \n",
       "2           2400         2400           2400.0    36    0.1596        84.33   \n",
       "3          10000        10000          10000.0    36    0.1349       339.31   \n",
       "5           5000         5000           5000.0    36    0.0790       156.46   \n",
       "7           3000         3000           3000.0    36    0.1864       109.43   \n",
       "11         12000        12000          12000.0    36    0.1269       402.54   \n",
       "12          9000         9000           9000.0    36    0.1349       305.38   \n",
       "13          3000         3000           3000.0    36    0.0991        96.68   \n",
       "14         10000        10000          10000.0    36    0.1065       325.74   \n",
       "15          1000         1000           1000.0    36    0.1629        35.31   \n",
       "16         10000        10000          10000.0    36    0.1527       347.98   \n",
       "17          3600         3600           3600.0    36    0.0603       109.57   \n",
       "18          6000         6000           6000.0    36    0.1171       198.46   \n",
       "19          9200         9200           9200.0    36    0.0603       280.01   \n",
       "21         21000        21000          21000.0    36    0.1242       701.73   \n",
       "22         10000        10000          10000.0    36    0.1171       330.76   \n",
       "23         10000        10000          10000.0    36    0.1171       330.76   \n",
       "24          6000         6000           6000.0    36    0.1171       198.46   \n",
       "25         15000        15000          15000.0    36    0.0991       483.38   \n",
       "26         15000        15000           8725.0    36    0.1427       514.64   \n",
       "28          4000         4000           4000.0    36    0.1171       132.31   \n",
       "29          8500         8500           8500.0    36    0.1171       281.15   \n",
       "30          4375         4375           4375.0    36    0.0751       136.11   \n",
       "31         31825        31825          31825.0    36    0.0790       995.82   \n",
       "33          5000         5000           5000.0    36    0.0890       158.77   \n",
       "34          7000         7000           7000.0    36    0.1596       245.97   \n",
       "35         12400        12400          12400.0    36    0.1065       403.91   \n",
       "36         10800        10800          10800.0    36    0.0991       348.03   \n",
       "37         15000        15000          15000.0    36    0.0790       469.36   \n",
       "38          6000         6000           6000.0    36    0.1242       200.50   \n",
       "...          ...          ...              ...   ...       ...          ...   \n",
       "42505       6725         6725            825.0    36    0.1312       226.98   \n",
       "42506       2000         2000           1025.0    36    0.1280        67.20   \n",
       "42507       6000         6000           1200.0    36    0.1312       202.51   \n",
       "42508       5350         5350            625.0    36    0.1312       180.57   \n",
       "42509       1900         1900            900.0    36    0.0964        61.00   \n",
       "42510      10000        10000            350.0    36    0.1470       345.18   \n",
       "42511       2000         2000           1275.0    36    0.0712        61.87   \n",
       "42512       6000         6000            650.0    36    0.1059       195.28   \n",
       "42513       4400         4400           1400.0    36    0.0964       141.25   \n",
       "42514       1200         1200            500.0    36    0.0901        38.17   \n",
       "42515       5000         5000            375.0    36    0.1122       164.23   \n",
       "42516       1400         1400            475.0    36    0.1091        45.78   \n",
       "42517       1000         1000            625.0    36    0.1407        34.21   \n",
       "42518       5000         5000            300.0    36    0.0775       156.11   \n",
       "42519       2500         2500            225.0    36    0.0743        77.69   \n",
       "42520       3000         3000            250.0    36    0.0743        93.23   \n",
       "42521       2600         2600            575.0    36    0.0838        81.94   \n",
       "42522       1000         1000            625.0    36    0.0712        30.94   \n",
       "42523       6450         6450              0.0    36    0.1122       211.85   \n",
       "42524       1275         1275              0.0    36    0.1249        42.65   \n",
       "42525      10500        10500            275.0    36    0.1122       344.87   \n",
       "42526       3000         3000            125.0    36    0.0901        95.42   \n",
       "42527       3000         3000              0.0    36    0.0933        95.86   \n",
       "42528       2000         2000            225.0    36    0.0996        64.50   \n",
       "42529       6500         6500              0.0    36    0.0964       208.66   \n",
       "42530       3500         3500            225.0    36    0.1028       113.39   \n",
       "42531       1000         1000              0.0    36    0.0964        32.11   \n",
       "42532       2525         2525            225.0    36    0.0933        80.69   \n",
       "42533       6500         6500              0.0    36    0.0838       204.84   \n",
       "42534       5000         5000              0.0    36    0.0775       156.11   \n",
       "\n",
       "      emp_length home_ownership  annual_inc verification_status  \\\n",
       "0      10+ years           RENT    24000.00            Verified   \n",
       "2      10+ years           RENT    12252.00        Not Verified   \n",
       "3      10+ years           RENT    49200.00     Source Verified   \n",
       "5        3 years           RENT    36000.00     Source Verified   \n",
       "7        9 years           RENT    48000.00     Source Verified   \n",
       "11     10+ years            OWN    75000.00     Source Verified   \n",
       "12      < 1 year           RENT    30000.00     Source Verified   \n",
       "13       3 years           RENT    15000.00     Source Verified   \n",
       "14       3 years           RENT   100000.00     Source Verified   \n",
       "15      < 1 year           RENT    28000.00        Not Verified   \n",
       "16       4 years           RENT    42000.00        Not Verified   \n",
       "17     10+ years       MORTGAGE   110000.00        Not Verified   \n",
       "18        1 year       MORTGAGE    84000.00            Verified   \n",
       "19       6 years           RENT    77385.19        Not Verified   \n",
       "21     10+ years           RENT   105000.00            Verified   \n",
       "22     10+ years            OWN    50000.00     Source Verified   \n",
       "23       5 years           RENT    50000.00        Not Verified   \n",
       "24        1 year           RENT    76000.00        Not Verified   \n",
       "25       2 years       MORTGAGE    92000.00            Verified   \n",
       "26       9 years           RENT    60000.00        Not Verified   \n",
       "28     10+ years       MORTGAGE   106000.00        Not Verified   \n",
       "29      < 1 year           RENT    25000.00     Source Verified   \n",
       "30       7 years       MORTGAGE    17108.00     Source Verified   \n",
       "31       5 years       MORTGAGE    75000.00            Verified   \n",
       "33       2 years           RENT    24044.00            Verified   \n",
       "34       7 years           RENT    34000.00     Source Verified   \n",
       "35     10+ years           RENT    41000.00        Not Verified   \n",
       "36       2 years           RENT    55596.00     Source Verified   \n",
       "37        1 year           RENT    45000.00            Verified   \n",
       "38        1 year           RENT    36852.00     Source Verified   \n",
       "...          ...            ...         ...                 ...   \n",
       "42505  10+ years       MORTGAGE    60000.00        Not Verified   \n",
       "42506   < 1 year            OWN    10000.00        Not Verified   \n",
       "42507    2 years           RENT    12000.00        Not Verified   \n",
       "42508     1 year            OWN     4000.00        Not Verified   \n",
       "42509     1 year       MORTGAGE   100000.00        Not Verified   \n",
       "42510     1 year           RENT    50000.00        Not Verified   \n",
       "42511    7 years       MORTGAGE   150000.00        Not Verified   \n",
       "42512   < 1 year           RENT    20000.00        Not Verified   \n",
       "42513    2 years       MORTGAGE    30000.00        Not Verified   \n",
       "42514   < 1 year           RENT    36000.00        Not Verified   \n",
       "42515   < 1 year           RENT    28000.00        Not Verified   \n",
       "42516   < 1 year           RENT    40000.00        Not Verified   \n",
       "42517  10+ years           RENT    25000.00        Not Verified   \n",
       "42518  10+ years       MORTGAGE   300000.00        Not Verified   \n",
       "42519    9 years       MORTGAGE    66624.00        Not Verified   \n",
       "42520     1 year       MORTGAGE    80000.00        Not Verified   \n",
       "42521    3 years       MORTGAGE     6500.00        Not Verified   \n",
       "42522    6 years           RENT    50000.00        Not Verified   \n",
       "42523    2 years           RENT    32000.00        Not Verified   \n",
       "42524     1 year           RENT    40000.00        Not Verified   \n",
       "42525    3 years           RENT    60000.00        Not Verified   \n",
       "42526   < 1 year           RENT    35000.00        Not Verified   \n",
       "42527   < 1 year            OWN    20000.00        Not Verified   \n",
       "42528   < 1 year           RENT     6000.00        Not Verified   \n",
       "42529   < 1 year           RENT    20000.00        Not Verified   \n",
       "42530   < 1 year           RENT   180000.00        Not Verified   \n",
       "42531   < 1 year           RENT    12000.00        Not Verified   \n",
       "42532   < 1 year           RENT   110000.00        Not Verified   \n",
       "42533   < 1 year           NONE         NaN        Not Verified   \n",
       "42534  10+ years       MORTGAGE    70000.00        Not Verified   \n",
       "\n",
       "               ...          inq_last_6mths mths_since_last_delinq  \\\n",
       "0              ...                     1.0                    NaN   \n",
       "2              ...                     2.0                    NaN   \n",
       "3              ...                     1.0                   35.0   \n",
       "5              ...                     3.0                    NaN   \n",
       "7              ...                     2.0                    NaN   \n",
       "11             ...                     0.0                    NaN   \n",
       "12             ...                     1.0                    NaN   \n",
       "13             ...                     2.0                    NaN   \n",
       "14             ...                     2.0                    NaN   \n",
       "15             ...                     1.0                    NaN   \n",
       "16             ...                     2.0                   61.0   \n",
       "17             ...                     0.0                    NaN   \n",
       "18             ...                     0.0                    8.0   \n",
       "19             ...                     0.0                    NaN   \n",
       "21             ...                     0.0                    NaN   \n",
       "22             ...                     0.0                    NaN   \n",
       "23             ...                     0.0                    NaN   \n",
       "24             ...                     1.0                    NaN   \n",
       "25             ...                     0.0                    NaN   \n",
       "26             ...                     1.0                    NaN   \n",
       "28             ...                     0.0                   18.0   \n",
       "29             ...                     0.0                    NaN   \n",
       "30             ...                     0.0                    NaN   \n",
       "31             ...                     0.0                    NaN   \n",
       "33             ...                     0.0                   45.0   \n",
       "34             ...                     1.0                    NaN   \n",
       "35             ...                     2.0                    NaN   \n",
       "36             ...                     0.0                    NaN   \n",
       "37             ...                     0.0                    NaN   \n",
       "38             ...                     1.0                    NaN   \n",
       "...            ...                     ...                    ...   \n",
       "42505          ...                     9.0                    0.0   \n",
       "42506          ...                     0.0                    4.0   \n",
       "42507          ...                     9.0                    0.0   \n",
       "42508          ...                     1.0                    0.0   \n",
       "42509          ...                     NaN                    NaN   \n",
       "42510          ...                     0.0                    1.0   \n",
       "42511          ...                     0.0                    0.0   \n",
       "42512          ...                     4.0                   45.0   \n",
       "42513          ...                     0.0                    0.0   \n",
       "42514          ...                     NaN                    NaN   \n",
       "42515          ...                     NaN                    NaN   \n",
       "42516          ...                     NaN                    NaN   \n",
       "42517          ...                     NaN                    NaN   \n",
       "42518          ...                     NaN                    NaN   \n",
       "42519          ...                     NaN                    NaN   \n",
       "42520          ...                     NaN                    NaN   \n",
       "42521          ...                     NaN                    NaN   \n",
       "42522          ...                     NaN                    NaN   \n",
       "42523          ...                     NaN                    NaN   \n",
       "42524          ...                     NaN                    NaN   \n",
       "42525          ...                     NaN                    NaN   \n",
       "42526          ...                     NaN                    NaN   \n",
       "42527          ...                     NaN                    NaN   \n",
       "42528          ...                     NaN                    NaN   \n",
       "42529          ...                     NaN                    NaN   \n",
       "42530          ...                     NaN                    NaN   \n",
       "42531          ...                     NaN                    NaN   \n",
       "42532          ...                     NaN                    NaN   \n",
       "42533          ...                     NaN                    NaN   \n",
       "42534          ...                     NaN                    NaN   \n",
       "\n",
       "      mths_since_last_record open_acc pub_rec revol_bal  revol_util total_acc  \\\n",
       "0                        NaN      3.0     0.0   13648.0      0.8370         9   \n",
       "2                        NaN      2.0     0.0    2956.0      0.9850        10   \n",
       "3                        NaN     10.0     0.0    5598.0      0.2100        37   \n",
       "5                        NaN      9.0     0.0    7963.0      0.2830        12   \n",
       "7                        NaN      4.0     0.0    8221.0      0.8750         4   \n",
       "11                       NaN     12.0     0.0   23336.0      0.6710        34   \n",
       "12                       NaN      4.0     0.0   10452.0      0.9170         9   \n",
       "13                       NaN     11.0     0.0    7323.0      0.4310        11   \n",
       "14                       NaN     14.0     0.0   11997.0      0.5550        29   \n",
       "15                       NaN     11.0     0.0    6524.0      0.8150        23   \n",
       "16                       NaN     14.0     0.0   24043.0      0.7020        28   \n",
       "17                       NaN     20.0     0.0   22836.0      0.1600        42   \n",
       "18                       NaN      4.0     0.0       0.0      0.3773        14   \n",
       "19                       NaN      8.0     0.0    7314.0      0.2310        28   \n",
       "21                       NaN      7.0     0.0   32135.0      0.9030        38   \n",
       "22                       NaN      8.0     0.0   10056.0      0.8240        21   \n",
       "23                       NaN      6.0     0.0   17800.0      0.9180        17   \n",
       "24                       NaN      7.0     0.0    5963.0      0.2970         7   \n",
       "25                       NaN      8.0     0.0   13707.0      0.9390        31   \n",
       "26                       NaN      7.0     0.0    5872.0      0.5760        11   \n",
       "28                       NaN     12.0     0.0    6110.0      0.3770        44   \n",
       "29                       NaN      8.0     0.0    6441.0      0.5910        12   \n",
       "30                       NaN      6.0     0.0   11210.0      0.8690        12   \n",
       "31                       NaN     12.0     0.0   23151.0      0.2740        26   \n",
       "33                       NaN      8.0     0.0    2224.0      0.2930        16   \n",
       "34                       NaN      6.0     0.0    6113.0      0.6050         6   \n",
       "35                       NaN      9.0     0.0   11095.0      0.5720        12   \n",
       "36                       NaN      7.0     0.0    2535.0      0.1330        18   \n",
       "37                       NaN      7.0     0.0    6704.0      0.5040        27   \n",
       "38                       NaN      7.0     0.0    7310.0      0.6650        12   \n",
       "...                      ...      ...     ...       ...         ...       ...   \n",
       "42505                   38.0     10.0     1.0    5513.0      0.8890        32   \n",
       "42506                    0.0      2.0     0.0     571.0      0.6190         4   \n",
       "42507                    0.0     15.0     0.0    5251.0      0.4930        16   \n",
       "42508                    0.0      1.0     0.0       0.0         NaN         1   \n",
       "42509                    NaN      NaN     NaN       0.0         NaN       NaN   \n",
       "42510                    0.0     14.0     0.0   10025.0      0.8500        20   \n",
       "42511                    0.0      7.0     0.0  150786.0      0.0220        16   \n",
       "42512                    0.0      5.0     0.0   13660.0      0.6600         6   \n",
       "42513                    0.0      4.0     0.0    3493.0      0.6350         5   \n",
       "42514                    NaN      NaN     NaN       0.0         NaN       NaN   \n",
       "42515                    NaN      NaN     NaN       0.0         NaN       NaN   \n",
       "42516                    NaN      NaN     NaN       0.0         NaN       NaN   \n",
       "42517                    NaN      NaN     NaN       0.0         NaN       NaN   \n",
       "42518                    NaN      NaN     NaN       0.0         NaN       NaN   \n",
       "42519                    NaN      NaN     NaN       0.0         NaN       NaN   \n",
       "42520                    NaN      NaN     NaN       0.0         NaN       NaN   \n",
       "42521                    NaN      NaN     NaN       0.0         NaN       NaN   \n",
       "42522                    NaN      NaN     NaN       0.0         NaN       NaN   \n",
       "42523                    NaN      NaN     NaN       0.0         NaN       NaN   \n",
       "42524                    NaN      NaN     NaN       0.0         NaN       NaN   \n",
       "42525                    NaN      NaN     NaN       0.0         NaN       NaN   \n",
       "42526                    NaN      NaN     NaN       0.0         NaN       NaN   \n",
       "42527                    NaN      NaN     NaN       0.0         NaN       NaN   \n",
       "42528                    NaN      NaN     NaN       0.0         NaN       NaN   \n",
       "42529                    NaN      NaN     NaN       0.0         NaN       NaN   \n",
       "42530                    NaN      NaN     NaN       0.0         NaN       NaN   \n",
       "42531                    NaN      NaN     NaN       0.0         NaN       NaN   \n",
       "42532                    NaN      NaN     NaN       0.0         NaN       NaN   \n",
       "42533                    NaN      NaN     NaN       0.0         NaN       NaN   \n",
       "42534                    NaN      NaN     NaN       0.0         NaN       NaN   \n",
       "\n",
       "      next_pymnt_d  pub_rec_bankruptcies  \n",
       "0              NaT                   0.0  \n",
       "2              NaT                   0.0  \n",
       "3              NaT                   0.0  \n",
       "5              NaT                   0.0  \n",
       "7              NaT                   0.0  \n",
       "11             NaT                   0.0  \n",
       "12             NaT                   0.0  \n",
       "13             NaT                   0.0  \n",
       "14             NaT                   0.0  \n",
       "15             NaT                   0.0  \n",
       "16             NaT                   0.0  \n",
       "17             NaT                   0.0  \n",
       "18             NaT                   0.0  \n",
       "19             NaT                   0.0  \n",
       "21             NaT                   0.0  \n",
       "22             NaT                   0.0  \n",
       "23             NaT                   0.0  \n",
       "24             NaT                   0.0  \n",
       "25             NaT                   0.0  \n",
       "26             NaT                   0.0  \n",
       "28             NaT                   0.0  \n",
       "29             NaT                   0.0  \n",
       "30             NaT                   0.0  \n",
       "31             NaT                   0.0  \n",
       "33             NaT                   0.0  \n",
       "34             NaT                   0.0  \n",
       "35             NaT                   0.0  \n",
       "36             NaT                   0.0  \n",
       "37             NaT                   0.0  \n",
       "38             NaT                   0.0  \n",
       "...            ...                   ...  \n",
       "42505   2009-08-01                   NaN  \n",
       "42506   2010-07-01                   NaN  \n",
       "42507   2010-07-01                   NaN  \n",
       "42508   2010-02-01                   NaN  \n",
       "42509   2008-02-01                   NaN  \n",
       "42510   2010-09-01                   NaN  \n",
       "42511   2010-07-01                   NaN  \n",
       "42512   2010-07-01                   NaN  \n",
       "42513   2010-07-01                   NaN  \n",
       "42514   2010-07-01                   NaN  \n",
       "42515   2010-04-01                   NaN  \n",
       "42516   2010-08-01                   NaN  \n",
       "42517   2010-07-01                   NaN  \n",
       "42518   2009-09-01                   NaN  \n",
       "42519   2008-01-01                   NaN  \n",
       "42520   2008-01-01                   NaN  \n",
       "42521   2010-03-01                   NaN  \n",
       "42522   2010-07-01                   NaN  \n",
       "42523   2010-07-01                   NaN  \n",
       "42524   2008-12-01                   NaN  \n",
       "42525   2008-08-01                   NaN  \n",
       "42526   2010-07-01                   NaN  \n",
       "42527   2010-07-01                   NaN  \n",
       "42528   2010-08-01                   NaN  \n",
       "42529   2008-12-01                   NaN  \n",
       "42530   2008-03-01                   NaN  \n",
       "42531   2010-07-01                   NaN  \n",
       "42532   2010-07-01                   NaN  \n",
       "42533   2010-07-01                   NaN  \n",
       "42534   2010-07-01                   NaN  \n",
       "\n",
       "[31534 rows x 29 columns]>"
      ]
     },
     "execution_count": 77,
     "metadata": {},
     "output_type": "execute_result"
    }
   ],
   "source": [
    "df_final.info() "
   ]
  },
  {
   "cell_type": "code",
   "execution_count": null,
   "metadata": {},
   "outputs": [],
   "source": []
  }
 ],
 "metadata": {
  "kernelspec": {
   "display_name": "Python 3",
   "language": "python",
   "name": "python3"
  },
  "language_info": {
   "codemirror_mode": {
    "name": "ipython",
    "version": 3
   },
   "file_extension": ".py",
   "mimetype": "text/x-python",
   "name": "python",
   "nbconvert_exporter": "python",
   "pygments_lexer": "ipython3",
   "version": "3.7.0"
  }
 },
 "nbformat": 4,
 "nbformat_minor": 2
}
