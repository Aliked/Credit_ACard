{
 "cells": [
  {
   "cell_type": "markdown",
   "metadata": {},
   "source": [
    "# 信贷申请评分卡_A卡案例\n",
    "\n",
    "主要项目流程：数据获取、数据清洗(特征初筛)、特征工程、模型建立、模型评价、模型优化等"
   ]
  },
  {
   "cell_type": "code",
   "execution_count": 170,
   "metadata": {},
   "outputs": [],
   "source": [
    "import pandas as pd\n",
    "import numpy as np\n",
    "import matplotlib.pyplot as plt\n",
    "import seaborn as sn\n",
    "import catboost as cat\n",
    "import lightgbm as lgb\n",
    "import xgboost as xgb\n",
    "from statsmodels.stats.outliers_influence import variance_inflation_factor"
   ]
  },
  {
   "cell_type": "markdown",
   "metadata": {},
   "source": [
    "# 1.数据获取"
   ]
  },
  {
   "cell_type": "code",
   "execution_count": 2,
   "metadata": {},
   "outputs": [],
   "source": [
    "# 数据基本描述：信贷申请数据--42535个样本，144个特征"
   ]
  },
  {
   "cell_type": "code",
   "execution_count": 3,
   "metadata": {},
   "outputs": [
    {
     "data": {
      "text/plain": [
       "(42535, 144)"
      ]
     },
     "execution_count": 3,
     "metadata": {},
     "output_type": "execute_result"
    }
   ],
   "source": [
    "data = pd.read_excel('LoanStats_2018Q3.xlsx')\n",
    "data.shape"
   ]
  },
  {
   "cell_type": "code",
   "execution_count": 4,
   "metadata": {},
   "outputs": [
    {
     "name": "stdout",
     "output_type": "stream",
     "text": [
      "['id', 'loan_amnt', 'funded_amnt', 'funded_amnt_inv', 'term', 'int_rate', 'installment', 'grade', 'sub_grade', 'emp_title', 'emp_length', 'home_ownership', 'annual_inc', 'verification_status', 'issue_d', 'loan_status', 'pymnt_plan', 'url', 'desc', 'purpose', 'title', 'zip_code', 'addr_state', 'dti', 'delinq_2yrs', 'earliest_cr_line', 'inq_last_6mths', 'mths_since_last_delinq', 'mths_since_last_record', 'open_acc', 'pub_rec', 'revol_bal', 'revol_util', 'total_acc', 'initial_list_status', 'out_prncp', 'out_prncp_inv', 'total_pymnt', 'total_pymnt_inv', 'total_rec_prncp', 'total_rec_int', 'total_rec_late_fee', 'recoveries', 'collection_recovery_fee', 'last_pymnt_d', 'last_pymnt_amnt', 'next_pymnt_d', 'last_credit_pull_d', 'collections_12_mths_ex_med', 'mths_since_last_major_derog', 'policy_code', 'application_type', 'annual_inc_joint', 'dti_joint', 'verification_status_joint', 'acc_now_delinq', 'tot_coll_amt', 'tot_cur_bal', 'open_acc_6m', 'open_act_il', 'open_il_12m', 'open_il_24m', 'mths_since_rcnt_il', 'total_bal_il', 'il_util', 'open_rv_12m', 'open_rv_24m', 'max_bal_bc', 'all_util', 'total_rev_hi_lim', 'inq_fi', 'total_cu_tl', 'inq_last_12m', 'acc_open_past_24mths', 'avg_cur_bal', 'bc_open_to_buy', 'bc_util', 'chargeoff_within_12_mths', 'delinq_amnt', 'mo_sin_old_il_acct', 'mo_sin_old_rev_tl_op', 'mo_sin_rcnt_rev_tl_op', 'mo_sin_rcnt_tl', 'mort_acc', 'mths_since_recent_bc', 'mths_since_recent_bc_dlq', 'mths_since_recent_inq', 'mths_since_recent_revol_delinq', 'num_accts_ever_120_pd', 'num_actv_bc_tl', 'num_actv_rev_tl', 'num_bc_sats', 'num_bc_tl', 'num_il_tl', 'num_op_rev_tl', 'num_rev_accts', 'num_rev_tl_bal_gt_0', 'num_sats', 'num_tl_120dpd_2m', 'num_tl_30dpd', 'num_tl_90g_dpd_24m', 'num_tl_op_past_12m', 'pct_tl_nvr_dlq', 'percent_bc_gt_75', 'pub_rec_bankruptcies', 'tax_liens', 'tot_hi_cred_lim', 'total_bal_ex_mort', 'total_bc_limit', 'total_il_high_credit_limit', 'revol_bal_joint', 'sec_app_earliest_cr_line', 'sec_app_inq_last_6mths', 'sec_app_mort_acc', 'sec_app_open_acc', 'sec_app_revol_util', 'sec_app_open_act_il', 'sec_app_num_rev_accts', 'sec_app_chargeoff_within_12_mths', 'sec_app_collections_12_mths_ex_med', 'sec_app_mths_since_last_major_derog', 'hardship_flag', 'hardship_type', 'hardship_reason', 'hardship_status', 'deferral_term', 'hardship_amount', 'hardship_start_date', 'hardship_end_date', 'payment_plan_start_date', 'hardship_length', 'hardship_dpd', 'hardship_loan_status', 'orig_projected_additional_accrued_interest', 'hardship_payoff_balance_amount', 'hardship_last_payment_amount', 'disbursement_method', 'debt_settlement_flag', 'debt_settlement_flag_date', 'settlement_status', 'settlement_date', 'settlement_amount', 'settlement_percentage', 'settlement_term']\n"
     ]
    },
    {
     "data": {
      "text/html": [
       "<div>\n",
       "<style scoped>\n",
       "    .dataframe tbody tr th:only-of-type {\n",
       "        vertical-align: middle;\n",
       "    }\n",
       "\n",
       "    .dataframe tbody tr th {\n",
       "        vertical-align: top;\n",
       "    }\n",
       "\n",
       "    .dataframe thead th {\n",
       "        text-align: right;\n",
       "    }\n",
       "</style>\n",
       "<table border=\"1\" class=\"dataframe\">\n",
       "  <thead>\n",
       "    <tr style=\"text-align: right;\">\n",
       "      <th></th>\n",
       "      <th>id</th>\n",
       "      <th>loan_amnt</th>\n",
       "      <th>funded_amnt</th>\n",
       "      <th>funded_amnt_inv</th>\n",
       "      <th>term</th>\n",
       "      <th>int_rate</th>\n",
       "      <th>installment</th>\n",
       "      <th>grade</th>\n",
       "      <th>sub_grade</th>\n",
       "      <th>emp_title</th>\n",
       "      <th>...</th>\n",
       "      <th>hardship_payoff_balance_amount</th>\n",
       "      <th>hardship_last_payment_amount</th>\n",
       "      <th>disbursement_method</th>\n",
       "      <th>debt_settlement_flag</th>\n",
       "      <th>debt_settlement_flag_date</th>\n",
       "      <th>settlement_status</th>\n",
       "      <th>settlement_date</th>\n",
       "      <th>settlement_amount</th>\n",
       "      <th>settlement_percentage</th>\n",
       "      <th>settlement_term</th>\n",
       "    </tr>\n",
       "  </thead>\n",
       "  <tbody>\n",
       "    <tr>\n",
       "      <th>0</th>\n",
       "      <td>1</td>\n",
       "      <td>5000</td>\n",
       "      <td>5000</td>\n",
       "      <td>4975.0</td>\n",
       "      <td>36 months</td>\n",
       "      <td>0.1065</td>\n",
       "      <td>162.87</td>\n",
       "      <td>B</td>\n",
       "      <td>B2</td>\n",
       "      <td>NaN</td>\n",
       "      <td>...</td>\n",
       "      <td>NaN</td>\n",
       "      <td>NaN</td>\n",
       "      <td>Cash</td>\n",
       "      <td>N</td>\n",
       "      <td>NaT</td>\n",
       "      <td>NaN</td>\n",
       "      <td>NaT</td>\n",
       "      <td>NaN</td>\n",
       "      <td>NaN</td>\n",
       "      <td>NaN</td>\n",
       "    </tr>\n",
       "    <tr>\n",
       "      <th>1</th>\n",
       "      <td>2</td>\n",
       "      <td>2500</td>\n",
       "      <td>2500</td>\n",
       "      <td>2500.0</td>\n",
       "      <td>60 months</td>\n",
       "      <td>0.1527</td>\n",
       "      <td>59.83</td>\n",
       "      <td>C</td>\n",
       "      <td>C4</td>\n",
       "      <td>Ryder</td>\n",
       "      <td>...</td>\n",
       "      <td>NaN</td>\n",
       "      <td>NaN</td>\n",
       "      <td>Cash</td>\n",
       "      <td>N</td>\n",
       "      <td>NaT</td>\n",
       "      <td>NaN</td>\n",
       "      <td>NaT</td>\n",
       "      <td>NaN</td>\n",
       "      <td>NaN</td>\n",
       "      <td>NaN</td>\n",
       "    </tr>\n",
       "    <tr>\n",
       "      <th>2</th>\n",
       "      <td>3</td>\n",
       "      <td>2400</td>\n",
       "      <td>2400</td>\n",
       "      <td>2400.0</td>\n",
       "      <td>36 months</td>\n",
       "      <td>0.1596</td>\n",
       "      <td>84.33</td>\n",
       "      <td>C</td>\n",
       "      <td>C5</td>\n",
       "      <td>NaN</td>\n",
       "      <td>...</td>\n",
       "      <td>NaN</td>\n",
       "      <td>NaN</td>\n",
       "      <td>Cash</td>\n",
       "      <td>N</td>\n",
       "      <td>NaT</td>\n",
       "      <td>NaN</td>\n",
       "      <td>NaT</td>\n",
       "      <td>NaN</td>\n",
       "      <td>NaN</td>\n",
       "      <td>NaN</td>\n",
       "    </tr>\n",
       "    <tr>\n",
       "      <th>3</th>\n",
       "      <td>4</td>\n",
       "      <td>10000</td>\n",
       "      <td>10000</td>\n",
       "      <td>10000.0</td>\n",
       "      <td>36 months</td>\n",
       "      <td>0.1349</td>\n",
       "      <td>339.31</td>\n",
       "      <td>C</td>\n",
       "      <td>C1</td>\n",
       "      <td>AIR RESOURCES BOARD</td>\n",
       "      <td>...</td>\n",
       "      <td>NaN</td>\n",
       "      <td>NaN</td>\n",
       "      <td>Cash</td>\n",
       "      <td>N</td>\n",
       "      <td>NaT</td>\n",
       "      <td>NaN</td>\n",
       "      <td>NaT</td>\n",
       "      <td>NaN</td>\n",
       "      <td>NaN</td>\n",
       "      <td>NaN</td>\n",
       "    </tr>\n",
       "    <tr>\n",
       "      <th>4</th>\n",
       "      <td>5</td>\n",
       "      <td>3000</td>\n",
       "      <td>3000</td>\n",
       "      <td>3000.0</td>\n",
       "      <td>60 months</td>\n",
       "      <td>0.1269</td>\n",
       "      <td>67.79</td>\n",
       "      <td>B</td>\n",
       "      <td>B5</td>\n",
       "      <td>University Medical Group</td>\n",
       "      <td>...</td>\n",
       "      <td>NaN</td>\n",
       "      <td>NaN</td>\n",
       "      <td>Cash</td>\n",
       "      <td>N</td>\n",
       "      <td>NaT</td>\n",
       "      <td>NaN</td>\n",
       "      <td>NaT</td>\n",
       "      <td>NaN</td>\n",
       "      <td>NaN</td>\n",
       "      <td>NaN</td>\n",
       "    </tr>\n",
       "  </tbody>\n",
       "</table>\n",
       "<p>5 rows × 144 columns</p>\n",
       "</div>"
      ],
      "text/plain": [
       "   id  loan_amnt  funded_amnt  funded_amnt_inv        term  int_rate  \\\n",
       "0   1       5000         5000           4975.0   36 months    0.1065   \n",
       "1   2       2500         2500           2500.0   60 months    0.1527   \n",
       "2   3       2400         2400           2400.0   36 months    0.1596   \n",
       "3   4      10000        10000          10000.0   36 months    0.1349   \n",
       "4   5       3000         3000           3000.0   60 months    0.1269   \n",
       "\n",
       "   installment grade sub_grade                 emp_title       ...        \\\n",
       "0       162.87     B        B2                       NaN       ...         \n",
       "1        59.83     C        C4                     Ryder       ...         \n",
       "2        84.33     C        C5                       NaN       ...         \n",
       "3       339.31     C        C1       AIR RESOURCES BOARD       ...         \n",
       "4        67.79     B        B5  University Medical Group       ...         \n",
       "\n",
       "  hardship_payoff_balance_amount hardship_last_payment_amount  \\\n",
       "0                            NaN                          NaN   \n",
       "1                            NaN                          NaN   \n",
       "2                            NaN                          NaN   \n",
       "3                            NaN                          NaN   \n",
       "4                            NaN                          NaN   \n",
       "\n",
       "   disbursement_method debt_settlement_flag debt_settlement_flag_date  \\\n",
       "0                 Cash                    N                       NaT   \n",
       "1                 Cash                    N                       NaT   \n",
       "2                 Cash                    N                       NaT   \n",
       "3                 Cash                    N                       NaT   \n",
       "4                 Cash                    N                       NaT   \n",
       "\n",
       "  settlement_status settlement_date  settlement_amount settlement_percentage  \\\n",
       "0               NaN             NaT                NaN                   NaN   \n",
       "1               NaN             NaT                NaN                   NaN   \n",
       "2               NaN             NaT                NaN                   NaN   \n",
       "3               NaN             NaT                NaN                   NaN   \n",
       "4               NaN             NaT                NaN                   NaN   \n",
       "\n",
       "  settlement_term  \n",
       "0             NaN  \n",
       "1             NaN  \n",
       "2             NaN  \n",
       "3             NaN  \n",
       "4             NaN  \n",
       "\n",
       "[5 rows x 144 columns]"
      ]
     },
     "execution_count": 4,
     "metadata": {},
     "output_type": "execute_result"
    }
   ],
   "source": [
    "# 特征列表\n",
    "feature_list = list(data)\n",
    "print(feature_list)\n",
    "df = data.copy()\n",
    "df.head()"
   ]
  },
  {
   "cell_type": "markdown",
   "metadata": {},
   "source": [
    "# 2.数据清洗（特征初筛）"
   ]
  },
  {
   "cell_type": "code",
   "execution_count": 5,
   "metadata": {},
   "outputs": [
    {
     "name": "stdout",
     "output_type": "stream",
     "text": [
      "(42535, 144)\n"
     ]
    },
    {
     "data": {
      "text/plain": [
       "(42535, 126)"
      ]
     },
     "execution_count": 5,
     "metadata": {},
     "output_type": "execute_result"
    }
   ],
   "source": [
    "# 2.1 申请评分卡使用的数据不能是借款人借款后的信息，需删除18个特征\n",
    "del_feature_list = ['sub_grade','grade','initial_list_status','out_prncp','out_prncp_inv','total_pymnt','total_pymnt_inv',\n",
    "                    'total_rec_prncp','total_rec_int','total_rec_late_fee','recoveries','collection_recovery_fee','last_pymnt_d',\n",
    "                    'last_pymnt_amnt','last_credit_pull_d','collections_12_mths_ex_med','policy_code','disbursement_method']\n",
    "print(df.shape)\n",
    "df_01 = df.copy().drop(columns=del_feature_list, axis=1)\n",
    "df_01.shape"
   ]
  },
  {
   "cell_type": "code",
   "execution_count": 6,
   "metadata": {},
   "outputs": [
    {
     "data": {
      "text/plain": [
       "(42535, 124)"
      ]
     },
     "execution_count": 6,
     "metadata": {},
     "output_type": "execute_result"
    }
   ],
   "source": [
    "# 2.2 删除客户隐私的字段:['emp_title','title']\n",
    "customer_info = ['emp_title','title']\n",
    "df_02 = df_01.drop(columns=customer_info, axis=1)\n",
    "df_02.shape"
   ]
  },
  {
   "cell_type": "code",
   "execution_count": 7,
   "metadata": {},
   "outputs": [
    {
     "data": {
      "text/plain": [
       "(42535, 124)"
      ]
     },
     "execution_count": 7,
     "metadata": {},
     "output_type": "execute_result"
    }
   ],
   "source": [
    "# 2.3 去重，删除空行\n",
    "df_03 = df_02.drop_duplicates('id').dropna(axis=0, how='all')\n",
    "df_03.shape"
   ]
  },
  {
   "cell_type": "code",
   "execution_count": 8,
   "metadata": {},
   "outputs": [
    {
     "name": "stdout",
     "output_type": "stream",
     "text": [
      "86\n"
     ]
    },
    {
     "data": {
      "text/plain": [
       "(42535, 38)"
      ]
     },
     "execution_count": 8,
     "metadata": {},
     "output_type": "execute_result"
    }
   ],
   "source": [
    "# 2.4 删除缺失率大于0.95的字段\n",
    "# is_null = [df_03[i_feature].isnull().sum() for i_feature in list(df_03)]\n",
    "cols_null = []\n",
    "for col_null in df_03.columns:\n",
    "    if df_03[col_null].isnull().sum() > (df_03.shape[0])*0.95:\n",
    "        cols_null.append(col_null)\n",
    "print(len(cols_null))\n",
    "df_04 = df_03.drop(cols_null, axis=1)\n",
    "df_04.shape"
   ]
  },
  {
   "cell_type": "code",
   "execution_count": 9,
   "metadata": {},
   "outputs": [
    {
     "name": "stdout",
     "output_type": "stream",
     "text": [
      "['pymnt_plan', 'application_type', 'acc_now_delinq', 'chargeoff_within_12_mths', 'delinq_amnt', 'tax_liens', 'hardship_flag', 'debt_settlement_flag']\n"
     ]
    },
    {
     "data": {
      "text/plain": [
       "(42535, 30)"
      ]
     },
     "execution_count": 9,
     "metadata": {},
     "output_type": "execute_result"
    }
   ],
   "source": [
    "# 例：唯一值\n",
    "# 2.5 判断每个特征值的分布，若存在某一个值占比超过95%，则删除(分箱前提)\n",
    "col_handle = []\n",
    "for col_ in df_04.columns:\n",
    "    if df_04[col_].value_counts().max() > df_04.shape[0]*0.95:\n",
    "        col_handle.append(col_)\n",
    "print(col_handle)\n",
    "df_05 = df_04.drop(col_handle, axis=1)\n",
    "df_05.shape"
   ]
  },
  {
   "cell_type": "code",
   "execution_count": 10,
   "metadata": {},
   "outputs": [
    {
     "data": {
      "text/plain": [
       "(42535, 29)"
      ]
     },
     "execution_count": 10,
     "metadata": {},
     "output_type": "execute_result"
    }
   ],
   "source": [
    "# 2.6 删除id号\n",
    "df_06 = df_05.drop('id', axis=1)\n",
    "df_06.shape"
   ]
  },
  {
   "cell_type": "code",
   "execution_count": 11,
   "metadata": {},
   "outputs": [
    {
     "name": "stdout",
     "output_type": "stream",
     "text": [
      " 36 months    31534\n",
      " 60 months    11001\n",
      "Name: term, dtype: int64\n"
     ]
    },
    {
     "data": {
      "text/plain": [
       "(31534, 29)"
      ]
     },
     "execution_count": 11,
     "metadata": {},
     "output_type": "execute_result"
    }
   ],
   "source": [
    "# 2.7 查看借款期限，并选出借款36期的样本\n",
    "print(df_06['term'].value_counts())\n",
    "df_06['term'] = df_06['term'].replace(' 36 months', 36).replace(' 60 months', 60)\n",
    "df_final = df_06[df_06['term']==36]\n",
    "df_final.shape"
   ]
  },
  {
   "cell_type": "code",
   "execution_count": 12,
   "metadata": {},
   "outputs": [
    {
     "name": "stdout",
     "output_type": "stream",
     "text": [
      "['emp_length', 'home_ownership', 'verification_status', 'loan_status', 'desc', 'purpose', 'zip_code', 'addr_state', 'delinq_2yrs', 'total_acc']\n"
     ]
    }
   ],
   "source": [
    "# 2.8 数据类型查看与转换\n",
    "def obj_feature(df_final):\n",
    "    obj_feature = []\n",
    "    for obj_f in df_final.columns:\n",
    "        if df_final[obj_f].dtypes == 'object':\n",
    "            obj_feature.append(obj_f)\n",
    "    print(obj_feature)\n",
    "    return obj_feature\n",
    "\n",
    "obj_feature = obj_feature(df_final)"
   ]
  },
  {
   "cell_type": "code",
   "execution_count": 13,
   "metadata": {},
   "outputs": [
    {
     "name": "stdout",
     "output_type": "stream",
     "text": [
      "['10+ years' '3 years' '9 years' '< 1 year' '4 years' '1 year' '6 years'\n",
      " '5 years' '2 years' '7 years' '8 years' nan]\n"
     ]
    }
   ],
   "source": [
    "# 特征值查看\n",
    "# 1) emp_length--工作年限\n",
    "df_finals = df_final.copy()\n",
    "# print(df_finals['emp_length'].value_counts())\n",
    "print(df_finals['emp_length'].unique())\n",
    "\n",
    "def emp_length_new(x):\n",
    "    if x=='< 1 year':\n",
    "        return 0\n",
    "    elif x=='1 year':\n",
    "        return 1\n",
    "    elif x=='10+ years':\n",
    "        return 11\n",
    "    elif str(x)=='nan':\n",
    "        return np.nan\n",
    "    else:\n",
    "        return x.replace(' years', '')\n",
    "    \n",
    "df_finals['emp_length'] =df_finals['emp_length'].map(lambda x: emp_length_new(x))\n",
    "df_finals['emp_length'].unique()\n",
    "df_finals['emp_length'] = df_finals['emp_length'].apply(pd.to_numeric, errors='coerce')\n",
    "# print('===================================')\n",
    "\n",
    "# 2) home_ownership--房产权:类别型特征\n",
    "# print(df_finals['home_ownership'].value_counts())\n",
    "# print('===================================')\n",
    "\n",
    "# 3) verification_status--验证状态:类别型特征\n",
    "# print(df_finals['verification_status'].value_counts())\n",
    "# print('===================================')\n",
    "\n",
    "# 4) loan_status--贷款状态:y\n",
    "# df_finals['loan_status'].value_counts()\n",
    "df_finals['loan_status'] = df_finals['loan_status'].copy().map(lambda x: 1 if 'Charged Off' in x else 0)\n",
    "# print(df_finals['loan_status'].value_counts())\n",
    "# print('===================================')\n",
    "\n",
    "# 5) desc--自然语言模块，暂不考虑\n",
    "df_finals = df_finals.drop('desc', axis=1)\n",
    "# print('===================================')\n",
    "\n",
    "# 6) purpose--用途：类别型特征\n",
    "# print(df_finals['purpose'].value_counts())\n",
    "# print('===================================')\n",
    "\n",
    "# 7) zip_code--邮政编码\n",
    "df_finals = df_finals.drop('zip_code', axis=1)\n",
    "# print('===================================')\n",
    "\n",
    "# 8) addr_state--地址状态：类别型特征\n",
    "# print(df_finals['addr_state'].value_counts())\n",
    "# print('===================================')\n",
    "\n",
    "# 9) delinq_2yrs：过去两年逾期次数\n",
    "# print(df_finals['delinq_2yrs'].value_counts())\n",
    "set(df_finals['delinq_2yrs'])\n",
    "df_finals['delinq_2yrs'] = df_finals['delinq_2yrs'].apply(pd.to_numeric, errors='coerce')\n",
    "\n",
    "# 10) total_acc\n",
    "set(df_finals['total_acc'])\n",
    "df_finals['total_acc'] = df_finals['total_acc'].apply(pd.to_numeric, errors='coerce')"
   ]
  },
  {
   "cell_type": "code",
   "execution_count": 14,
   "metadata": {},
   "outputs": [
    {
     "name": "stdout",
     "output_type": "stream",
     "text": [
      "(31534, 28)\n"
     ]
    },
    {
     "data": {
      "text/plain": [
       "Index(['loan_amnt', 'funded_amnt', 'funded_amnt_inv', 'term', 'int_rate',\n",
       "       'installment', 'emp_length', 'home_ownership', 'annual_inc',\n",
       "       'verification_status', 'issue_d', 'loan_status', 'purpose',\n",
       "       'addr_state', 'dti', 'delinq_2yrs', 'earliest_cr_line',\n",
       "       'inq_last_6mths', 'mths_since_last_delinq', 'mths_since_last_record',\n",
       "       'open_acc', 'pub_rec', 'revol_bal', 'revol_util', 'total_acc',\n",
       "       'next_pymnt_d', 'pub_rec_bankruptcies', 'pnt_loan_annual'],\n",
       "      dtype='object')"
      ]
     },
     "execution_count": 14,
     "metadata": {},
     "output_type": "execute_result"
    }
   ],
   "source": [
    "# 2.9 特征衍生：loan_amnt贷款额度，annual_inc年收入（贷款收入比）\n",
    "# df_finals[['loan_amnt','annual_inc', 'issue_d', 'earliest_cr_line', 'next_pymnt_d']]\n",
    "df_finals['pnt_loan_annual'] = df_finals.loan_amnt/df_finals.annual_inc\n",
    "print(df_finals.shape)\n",
    "df_finals.columns"
   ]
  },
  {
   "cell_type": "code",
   "execution_count": 15,
   "metadata": {},
   "outputs": [
    {
     "name": "stdout",
     "output_type": "stream",
     "text": [
      "19\n"
     ]
    }
   ],
   "source": [
    "# 特征列表分类\n",
    "# 离散(类别型)特征:home_ownership, verification_status, purpose, addr_state\n",
    "char_feature = ['emp_length', 'home_ownership', 'verification_status', 'purpose', 'addr_state']\n",
    "\n",
    "# 日期型特征：issue_d，earliest_cr_line，next_pymnt_d\n",
    "time_feature = ['issue_d', 'earliest_cr_line', 'next_pymnt_d']\n",
    "df_finals[time_feature] = df_finals[time_feature].apply(pd.to_datetime)\n",
    "\n",
    "# 标签\n",
    "df_label=['loan_status']\n",
    "\n",
    "# 连续型特征\n",
    "num_feature = df_finals.copy().columns.drop(time_feature).drop(char_feature).drop(df_label)\n",
    "for i_f in num_feature:\n",
    "    df_finals[i_f] = df_finals[i_f].apply(pd.to_numeric, errors='coerce')\n",
    "print(len(num_feature))"
   ]
  },
  {
   "cell_type": "code",
   "execution_count": 16,
   "metadata": {},
   "outputs": [],
   "source": [
    "# *数据探索\n",
    "# 类别型(离散)特征: 每个特征值分布概率值\n",
    "def data_distributed(df_finals, char_feature):\n",
    "    rate_feature_all = []\n",
    "    for col in char_feature:\n",
    "        result = df_finals[col].value_counts()\n",
    "        #print('char_feature_name:', col)\n",
    "        rate_feature = []\n",
    "        for v_i in range(len(result)):\n",
    "            rate = result[v_i]/result.sum()\n",
    "            rate_feature.append(rate)\n",
    "        rate_feature = pd.Series(rate_feature).to_frame().reset_index().rename(columns={'index':'id', 0: 'rate'})\n",
    "        result = pd.Series(result).to_frame().reset_index().reset_index().rename(columns={'level_0':'id', 'index':'f_name',\n",
    "                                                                                          'home_ownership':'value_count'})\n",
    "        rate_feature = pd.merge(result, rate_feature, on=['id']).drop('id', axis=1)\n",
    "        rate_feature_all.append(rate_feature)\n",
    "    return rate_feature_all\n",
    "\n",
    "df_finals['emp_length'] = df_finals['emp_length'].astype('str')\n",
    "# df_finals['emp_length'].dtypes\n",
    "rate_feature_all = data_distributed(df_finals, char_feature)\n",
    "# rate_feature_all"
   ]
  },
  {
   "cell_type": "code",
   "execution_count": 17,
   "metadata": {
    "scrolled": true
   },
   "outputs": [
    {
     "name": "stdout",
     "output_type": "stream",
     "text": [
      "emp_length             0\n",
      "home_ownership         0\n",
      "verification_status    0\n",
      "purpose                0\n",
      "addr_state             0\n",
      "dtype: int64\n",
      "==============next=============\n",
      "loan_amnt                     0\n",
      "funded_amnt                   0\n",
      "funded_amnt_inv               0\n",
      "term                          0\n",
      "int_rate                      0\n",
      "installment                   0\n",
      "annual_inc                    4\n",
      "dti                           0\n",
      "delinq_2yrs                  30\n",
      "inq_last_6mths               29\n",
      "mths_since_last_delinq    19747\n",
      "mths_since_last_record    28530\n",
      "open_acc                     29\n",
      "pub_rec                      29\n",
      "revol_bal                     0\n",
      "revol_util                   86\n",
      "total_acc                    30\n",
      "pub_rec_bankruptcies       1365\n",
      "pnt_loan_annual               4\n",
      "dtype: int64\n"
     ]
    }
   ],
   "source": [
    "# 2.10 缺失值查看与处理\n",
    "# 离散特征\n",
    "print(df_finals[char_feature].isnull().sum())\n",
    "print('==============next=============')\n",
    "\n",
    "# 连续型特征\n",
    "print(df_finals[num_feature].isnull().sum())\n",
    "# 缺失值处理：-999填充\n",
    "df_s = df_finals.fillna(-999)"
   ]
  },
  {
   "cell_type": "code",
   "execution_count": 18,
   "metadata": {},
   "outputs": [
    {
     "data": {
      "text/plain": [
       "0    27658\n",
       "1     3876\n",
       "Name: y, dtype: int64"
      ]
     },
     "execution_count": 18,
     "metadata": {},
     "output_type": "execute_result"
    }
   ],
   "source": [
    "# 重命名与定义y标签：贷款状态(好样本0，坏样本1)\n",
    "df_s=df_s.rename(columns={'loan_status':'y'})\n",
    "df_s['y'].value_counts()"
   ]
  },
  {
   "cell_type": "markdown",
   "metadata": {},
   "source": [
    "# 3.特征工程"
   ]
  },
  {
   "cell_type": "code",
   "execution_count": 153,
   "metadata": {},
   "outputs": [],
   "source": [
    "# 根据iv值、相关性、多重共线性等筛选特征"
   ]
  },
  {
   "cell_type": "code",
   "execution_count": 154,
   "metadata": {},
   "outputs": [],
   "source": [
    "# 离散：计算每个特征的iv值\n",
    "def cal_charf_iv(char_df, label):\n",
    "#     print(char_df.shape, '\\n====计算离散特征的iv值====')\n",
    "    all_feature_iv = []\n",
    "    char_feature_name = []\n",
    "    for char_f in list(char_df):\n",
    "        if char_f not in label:\n",
    "            char_feature_name.append(char_f)\n",
    "            #print('feature:', char_f)\n",
    "            df = pd.concat([char_df[char_f], char_df[label]], axis=1)\n",
    "            #print(df.shape)\n",
    "            # 好样本统计\n",
    "            good_df = df[df[label]==0]\n",
    "            good_count = good_df[char_f].value_counts().to_frame().reset_index().rename(columns={'index':'char_value',char_f:'good_count'})\n",
    "            # 坏样本统计\n",
    "            bad_df = df[df[label]==1]\n",
    "            bad_count = bad_df[char_f].value_counts().to_frame().reset_index().rename(columns={'index':'char_value',char_f:'bad_count'})\n",
    "            # 整合\n",
    "            result_df = pd.merge(good_count, bad_count, on=['char_value'])\n",
    "            result_df['good_rate'] = result_df.good_count/result_df.good_count.sum() # 好客户的占比\n",
    "            result_df['bad_rate'] = result_df.bad_count/result_df.bad_count.sum() # 坏客户的占比\n",
    "            result_df['cum_good_rate'] = result_df.good_rate.cumsum()\n",
    "            result_df['cum_bad_rate'] = result_df.bad_rate.cumsum()\n",
    "            # 计算ks\n",
    "            result_df['ks'] = round(abs(result_df.cum_good_rate - result_df.cum_bad_rate), 4)\n",
    "            # 计算woe(优势比):ln(好客户的占比/坏客户的占比)*100%\n",
    "            result_df['woe'] = np.log(result_df.good_rate/result_df.bad_rate)\n",
    "            result_df['iv'] = (result_df.good_rate-result_df.bad_rate)*(result_df.woe)\n",
    "            feature_iv = result_df.iv.sum()\n",
    "            #print('feature_iv:',feature_iv)\n",
    "            #print(str(char_f + ':'), feature_iv)\n",
    "            all_feature_iv.append(feature_iv)\n",
    "    feature_iv = pd.Series(all_feature_iv).to_frame().rename(columns={0:'feature_iv'})\n",
    "    feature_name = pd.Series(char_feature_name).to_frame().rename(columns={0:'feature_name'})\n",
    "    feature_name_iv = pd.concat([feature_name, feature_iv], axis=1)\n",
    "    return feature_name_iv\n",
    "\n",
    "# 连续型：计算每个特征的iv值\n",
    "def cal_numf_iv(num_df, label):\n",
    "#     print(num_df.shape, '\\n=========计算连续特征的iv值=========')\n",
    "    all_feature_iv = []\n",
    "    num_feature_name = []\n",
    "#     print(list(num_df))\n",
    "    for num_f in list(num_df):\n",
    "        if num_f not in label:\n",
    "            #print(num_f)\n",
    "            num_feature_name.append(num_f)\n",
    "            # 分箱操作--等频：10等份\n",
    "            df_bin = pd.qcut(df_s[num_f], 10, duplicates='drop')\n",
    "            df_bin_label = pd.concat([df_bin, df_s[label]], axis=1)\n",
    "            # 好样本统计\n",
    "            good_bin_df = df_bin_label[df_bin_label[label]==0].rename(columns={num_f:'bin'})\n",
    "            good_count = good_bin_df['bin'].value_counts().to_frame().reset_index().rename(columns={'index':'bin', \n",
    "                                                                                                    'bin':'good_count'}).sort_values(by='bin')\n",
    "            # 坏样本统计\n",
    "            bad_bin_df = df_bin_label[df_bin_label[label]==1].rename(columns={num_f:'bin'})\n",
    "            bad_count = bad_bin_df['bin'].value_counts().to_frame().reset_index().rename(columns={'index':'bin', \n",
    "                                                                                                  'bin':'bad_count'}).sort_values(by='bin')\n",
    "            # 合并统计结果\n",
    "            result_df = pd.merge(good_count, bad_count, on=['bin'])\n",
    "            result_df['good_rate'] = result_df.good_count/result_df.good_count.sum()\n",
    "            result_df['bad_rate'] = result_df.bad_count/result_df.bad_count.sum()\n",
    "            result_df['cum_good_rate'] = result_df.good_rate.cumsum()\n",
    "            result_df['cum_bad_rate'] = result_df.bad_rate.cumsum()\n",
    "            # 计算ks\n",
    "            result_df['ks'] = round(abs(result_df.cum_good_rate - result_df.cum_bad_rate), 6)\n",
    "            # 计算iv值\n",
    "            result_df['woe'] = np.log(result_df.good_rate/result_df.bad_rate)\n",
    "            result_df['iv'] = (result_df.good_rate-result_df.bad_rate)*(result_df.woe)\n",
    "            feature_iv = result_df.iv.sum()\n",
    "            all_feature_iv.append(feature_iv)\n",
    "    feature_iv = pd.Series(all_feature_iv).to_frame().rename(columns={0:'feature_iv'})\n",
    "    feature_name = pd.Series(num_feature_name).to_frame().rename(columns={0:'feature_name'})\n",
    "    num_feature_name_iv = pd.concat([feature_name, feature_iv], axis=1)\n",
    "    return num_feature_name_iv\n",
    "\n",
    "def get_result_iv(feature_name_iv, low_th, high_th):\n",
    "    # 特征iv值：评价指标\n",
    "    #    a.iv<0.02, 预测效果：无明显；\n",
    "    #    b.0.02=<iv<0.1, 预测效果：弱； \n",
    "    #    c.0.1=<iv<0.3, 预测效果：中等；\n",
    "    #    d.0.3=<iv<0.5, 预测效果：强；\n",
    "    #    e.0.5=<iv, 预测效果：需考虑；\n",
    "    len_f = feature_name_iv.shape[0]\n",
    "    threshold_high = feature_name_iv[feature_name_iv.feature_iv<high_th].shape[0]\n",
    "    threshold_low = feature_name_iv[feature_name_iv.feature_iv>=low_th].shape[0]\n",
    "    if threshold_high==len_f and threshold_low==len_f:\n",
    "        print('all feature...')\n",
    "    else:\n",
    "        print('some feature...')\n",
    "    # 选取iv值在固定范围的特征,若整体iv值不高，可稍微适当调整\n",
    "    feature_sel = feature_name_iv[feature_name_iv.feature_iv>=low_th]\n",
    "    feature_sels = feature_sel[feature_sel.feature_iv<high_th]\n",
    "    return feature_sels\n",
    "\n",
    "# 根据相关性、iv值，综合考虑特征\n",
    "def del_feature_sub(sn_df, numf_vi, th_c):\n",
    "    del_feature_sub = []\n",
    "    for i in range(sn_df.shape[1]):\n",
    "        for j in range(sn_df.shape[1]):\n",
    "            if i==j:\n",
    "                continue\n",
    "            else:\n",
    "                if sn_df.iloc[i][j]>=th_c:\n",
    "                    numf_vi_i = numf_vi.iloc[i, 1]\n",
    "                    numf_vi_j = numf_vi.iloc[j, 1]\n",
    "                    if numf_vi_i>=numf_vi_j:\n",
    "                        del_feature_sub.append(numf_vi.iloc[j, 0])\n",
    "    del_feature_subs = list(set(del_feature_sub)) # 可删除特征字段\n",
    "    return del_feature_subs"
   ]
  },
  {
   "cell_type": "code",
   "execution_count": 158,
   "metadata": {},
   "outputs": [],
   "source": [
    "# 柱状图\n",
    "def plot_histogram(df):\n",
    "    all_feature_iv_list = list(df.feature_name)\n",
    "    all_feature_iv_df = df.feature_iv\n",
    "    plt.bar(range(len(all_feature_iv_list)), all_feature_iv_df, color='rgby')\n",
    "    plt.show()\n",
    "    \n",
    "# 热力图\n",
    "def plot_seaborn(df):\n",
    "    plt.figure(figsize=(12, 8))\n",
    "    sn.heatmap(df, annot=True)\n",
    "    plt.title(\"The feature's heatmap\")\n",
    "    plt.show()"
   ]
  },
  {
   "cell_type": "code",
   "execution_count": 159,
   "metadata": {},
   "outputs": [
    {
     "name": "stdout",
     "output_type": "stream",
     "text": [
      "some feature...\n",
      "特征总个数: 23\n",
      "根据iv筛选后的剩余特征个数: 17\n"
     ]
    },
    {
     "data": {
      "text/html": [
       "<div>\n",
       "<style scoped>\n",
       "    .dataframe tbody tr th:only-of-type {\n",
       "        vertical-align: middle;\n",
       "    }\n",
       "\n",
       "    .dataframe tbody tr th {\n",
       "        vertical-align: top;\n",
       "    }\n",
       "\n",
       "    .dataframe thead th {\n",
       "        text-align: right;\n",
       "    }\n",
       "</style>\n",
       "<table border=\"1\" class=\"dataframe\">\n",
       "  <thead>\n",
       "    <tr style=\"text-align: right;\">\n",
       "      <th></th>\n",
       "      <th>feature_name</th>\n",
       "      <th>feature_iv</th>\n",
       "    </tr>\n",
       "  </thead>\n",
       "  <tbody>\n",
       "    <tr>\n",
       "      <th>0</th>\n",
       "      <td>emp_length</td>\n",
       "      <td>0.013553</td>\n",
       "    </tr>\n",
       "    <tr>\n",
       "      <th>3</th>\n",
       "      <td>purpose</td>\n",
       "      <td>0.089033</td>\n",
       "    </tr>\n",
       "    <tr>\n",
       "      <th>4</th>\n",
       "      <td>addr_state</td>\n",
       "      <td>0.049407</td>\n",
       "    </tr>\n",
       "    <tr>\n",
       "      <th>5</th>\n",
       "      <td>loan_amnt</td>\n",
       "      <td>0.015097</td>\n",
       "    </tr>\n",
       "    <tr>\n",
       "      <th>6</th>\n",
       "      <td>funded_amnt</td>\n",
       "      <td>0.016292</td>\n",
       "    </tr>\n",
       "    <tr>\n",
       "      <th>7</th>\n",
       "      <td>funded_amnt_inv</td>\n",
       "      <td>0.061025</td>\n",
       "    </tr>\n",
       "    <tr>\n",
       "      <th>8</th>\n",
       "      <td>int_rate</td>\n",
       "      <td>0.272160</td>\n",
       "    </tr>\n",
       "    <tr>\n",
       "      <th>9</th>\n",
       "      <td>installment</td>\n",
       "      <td>0.010712</td>\n",
       "    </tr>\n",
       "    <tr>\n",
       "      <th>10</th>\n",
       "      <td>annual_inc</td>\n",
       "      <td>0.060682</td>\n",
       "    </tr>\n",
       "    <tr>\n",
       "      <th>11</th>\n",
       "      <td>dti</td>\n",
       "      <td>0.013676</td>\n",
       "    </tr>\n",
       "    <tr>\n",
       "      <th>13</th>\n",
       "      <td>inq_last_6mths</td>\n",
       "      <td>0.131574</td>\n",
       "    </tr>\n",
       "    <tr>\n",
       "      <th>16</th>\n",
       "      <td>open_acc</td>\n",
       "      <td>0.011898</td>\n",
       "    </tr>\n",
       "    <tr>\n",
       "      <th>17</th>\n",
       "      <td>pub_rec</td>\n",
       "      <td>0.023741</td>\n",
       "    </tr>\n",
       "    <tr>\n",
       "      <th>19</th>\n",
       "      <td>revol_util</td>\n",
       "      <td>0.079820</td>\n",
       "    </tr>\n",
       "    <tr>\n",
       "      <th>20</th>\n",
       "      <td>total_acc</td>\n",
       "      <td>0.026310</td>\n",
       "    </tr>\n",
       "    <tr>\n",
       "      <th>21</th>\n",
       "      <td>pub_rec_bankruptcies</td>\n",
       "      <td>0.013490</td>\n",
       "    </tr>\n",
       "    <tr>\n",
       "      <th>22</th>\n",
       "      <td>pnt_loan_annual</td>\n",
       "      <td>0.026691</td>\n",
       "    </tr>\n",
       "  </tbody>\n",
       "</table>\n",
       "</div>"
      ],
      "text/plain": [
       "            feature_name  feature_iv\n",
       "0             emp_length    0.013553\n",
       "3                purpose    0.089033\n",
       "4             addr_state    0.049407\n",
       "5              loan_amnt    0.015097\n",
       "6            funded_amnt    0.016292\n",
       "7        funded_amnt_inv    0.061025\n",
       "8               int_rate    0.272160\n",
       "9            installment    0.010712\n",
       "10            annual_inc    0.060682\n",
       "11                   dti    0.013676\n",
       "13        inq_last_6mths    0.131574\n",
       "16              open_acc    0.011898\n",
       "17               pub_rec    0.023741\n",
       "19            revol_util    0.079820\n",
       "20             total_acc    0.026310\n",
       "21  pub_rec_bankruptcies    0.013490\n",
       "22       pnt_loan_annual    0.026691"
      ]
     },
     "execution_count": 159,
     "metadata": {},
     "output_type": "execute_result"
    }
   ],
   "source": [
    "# 3.1 根据iv值筛选特征\n",
    "# 1)离散(类别型)特征\n",
    "char_df = pd.concat([df_s[char_feature], df_s['y']], axis=1)\n",
    "feature_name_iv = cal_charf_iv(char_df, label='y')\n",
    "feature_name_iv\n",
    "\n",
    "# 2) 连续性特征\n",
    "num_features = num_feature.copy().drop('term')\n",
    "num_df = df_s[num_features]\n",
    "num_df.shape\n",
    "num_feature_name_iv = cal_numf_iv(num_df, label='y')\n",
    "num_feature_name_iv\n",
    "\n",
    "# 3)合并离散和连续的特征iv值\n",
    "all_feature_iv = pd.concat([feature_name_iv, num_feature_name_iv],axis=0).reset_index().drop('index', axis=1)\n",
    "all_feature_iv\n",
    " \n",
    "# 4) 特征筛选_取iv值范围：[0.01, 0.5)\n",
    "feature_sels_vi = get_result_iv(all_feature_iv, low_th=0.01, high_th=0.5)\n",
    "sel_feature_ = list(feature_sels_vi.feature_name)  # 筛选后的特征列表：sel_feature_\n",
    "print('特征总个数:', all_feature_iv.shape[0])\n",
    "print('根据iv筛选后的剩余特征个数:',len(sel_feature_))\n",
    "feature_sels_vi"
   ]
  },
  {
   "cell_type": "code",
   "execution_count": 161,
   "metadata": {},
   "outputs": [
    {
     "data": {
      "image/png": "[encoded data removed]",
      "text/plain": [
       "<Figure size 864x576 with 2 Axes>"
      ]
     },
     "metadata": {
      "needs_background": "light"
     },
     "output_type": "display_data"
    },
    {
     "name": "stdout",
     "output_type": "stream",
     "text": [
      "删除特征字段： 5 \n",
      " ['loan_amnt', 'funded_amnt', 'installment', 'open_acc', 'total_acc']\n",
      "原特征字段： 14 \n",
      " ['loan_amnt', 'funded_amnt', 'funded_amnt_inv', 'int_rate', 'installment', 'annual_inc', 'dti', 'inq_last_6mths', 'open_acc', 'pub_rec', 'revol_util', 'total_acc', 'pub_rec_bankruptcies', 'pnt_loan_annual']\n",
      "新的特征字段： 9 \n",
      " ['funded_amnt_inv', 'int_rate', 'annual_inc', 'dti', 'inq_last_6mths', 'pub_rec', 'revol_util', 'pub_rec_bankruptcies', 'pnt_loan_annual']\n",
      "新的所有特征字段： 12 \n",
      " ['emp_length', 'purpose', 'addr_state', 'funded_amnt_inv', 'int_rate', 'annual_inc', 'dti', 'inq_last_6mths', 'pub_rec', 'revol_util', 'pub_rec_bankruptcies', 'pnt_loan_annual']\n"
     ]
    }
   ],
   "source": [
    "# 3.2 根据相关性与iv筛选特征(连续性特征)\n",
    "# 注：相关性高的两个特征(阈值0.7)，可删除iv值较小的特征\n",
    "# 相关性分析：连续性特征(14个)\n",
    "sub_num_feature = list(df_s[sel_feature_])[3:]\n",
    "sub_char_feature = list(df_s[sel_feature_])[0:3]\n",
    "sn_df = df_s[sub_num_feature].corr()\n",
    "# 热力图\n",
    "plot_seaborn(sn_df)\n",
    "numf_vi = feature_sels_vi[3:].reset_index().drop('index', axis=1)\n",
    "\n",
    "# 可删除特征字段\n",
    "del_feature_subs = del_feature_sub(sn_df, numf_vi, th_c=0.7)\n",
    "print('删除特征字段：', len(del_feature_subs), '\\n', del_feature_subs)\n",
    "print('原特征字段：', len(sub_num_feature), '\\n', sub_num_feature)\n",
    "# 新的连续特征字段\n",
    "new_num_feature = [i for i in sub_num_feature if i not in del_feature_subs]\n",
    "print('新的特征字段：',len(new_num_feature), '\\n', new_num_feature)\n",
    "# 新的所有特征字段\n",
    "all_newFeature_sub = sub_char_feature + new_num_feature\n",
    "print('新的所有特征字段：',len(all_newFeature_sub), '\\n', all_newFeature_sub)"
   ]
  },
  {
   "cell_type": "code",
   "execution_count": 163,
   "metadata": {},
   "outputs": [
    {
     "name": "stdout",
     "output_type": "stream",
     "text": [
      "(31534, 9)\n",
      "最大VIF值：max(vif)=5.8973037330539\n",
      "\n"
     ]
    },
    {
     "data": {
      "text/html": [
       "<div>\n",
       "<style scoped>\n",
       "    .dataframe tbody tr th:only-of-type {\n",
       "        vertical-align: middle;\n",
       "    }\n",
       "\n",
       "    .dataframe tbody tr th {\n",
       "        vertical-align: top;\n",
       "    }\n",
       "\n",
       "    .dataframe thead th {\n",
       "        text-align: right;\n",
       "    }\n",
       "</style>\n",
       "<table border=\"1\" class=\"dataframe\">\n",
       "  <thead>\n",
       "    <tr style=\"text-align: right;\">\n",
       "      <th></th>\n",
       "      <th>feature_name</th>\n",
       "      <th>vif_v</th>\n",
       "    </tr>\n",
       "  </thead>\n",
       "  <tbody>\n",
       "    <tr>\n",
       "      <th>0</th>\n",
       "      <td>funded_amnt_inv</td>\n",
       "      <td>3.227471</td>\n",
       "    </tr>\n",
       "    <tr>\n",
       "      <th>1</th>\n",
       "      <td>int_rate</td>\n",
       "      <td>5.897304</td>\n",
       "    </tr>\n",
       "    <tr>\n",
       "      <th>2</th>\n",
       "      <td>annual_inc</td>\n",
       "      <td>2.171382</td>\n",
       "    </tr>\n",
       "    <tr>\n",
       "      <th>3</th>\n",
       "      <td>dti</td>\n",
       "      <td>4.108529</td>\n",
       "    </tr>\n",
       "    <tr>\n",
       "      <th>4</th>\n",
       "      <td>inq_last_6mths</td>\n",
       "      <td>1.841611</td>\n",
       "    </tr>\n",
       "    <tr>\n",
       "      <th>5</th>\n",
       "      <td>pub_rec</td>\n",
       "      <td>1.158956</td>\n",
       "    </tr>\n",
       "    <tr>\n",
       "      <th>6</th>\n",
       "      <td>revol_util</td>\n",
       "      <td>1.515761</td>\n",
       "    </tr>\n",
       "    <tr>\n",
       "      <th>7</th>\n",
       "      <td>pub_rec_bankruptcies</td>\n",
       "      <td>1.117218</td>\n",
       "    </tr>\n",
       "    <tr>\n",
       "      <th>8</th>\n",
       "      <td>pnt_loan_annual</td>\n",
       "      <td>1.159677</td>\n",
       "    </tr>\n",
       "  </tbody>\n",
       "</table>\n",
       "</div>"
      ],
      "text/plain": [
       "           feature_name     vif_v\n",
       "0       funded_amnt_inv  3.227471\n",
       "1              int_rate  5.897304\n",
       "2            annual_inc  2.171382\n",
       "3                   dti  4.108529\n",
       "4        inq_last_6mths  1.841611\n",
       "5               pub_rec  1.158956\n",
       "6            revol_util  1.515761\n",
       "7  pub_rec_bankruptcies  1.117218\n",
       "8       pnt_loan_annual  1.159677"
      ]
     },
     "execution_count": 163,
     "metadata": {},
     "output_type": "execute_result"
    }
   ],
   "source": [
    "# 3.3 根据多重共线性筛选特征(连续型特征)\n",
    "# 判断：\n",
    "#    若VIF<3：说明基本不存在多重共线性的问题；\n",
    "#    若3<VIF<10：存在一定的多重共线性，实情考虑；\n",
    "#    若VIF>=10：说明问题比较严重，建议删除特征；\n",
    "vif_df = df_s[new_num_feature]\n",
    "print(vif_df.shape)\n",
    "numF_vif = pd.DataFrame()\n",
    "numF_vif['feature_name'] = vif_df.columns\n",
    "numF_vif['vif_v'] = [variance_inflation_factor(vif_df.values, i) for i in range(vif_df.shape[1])]\n",
    "print('最大VIF值：max(vif)=%s\\n' % max(numF_vif.vif_v))  # max(vif_v)<10，均无多重共线性，不操作\n",
    "numF_vif"
   ]
  },
  {
   "cell_type": "markdown",
   "metadata": {},
   "source": [
    "# 4.模型建立"
   ]
  },
  {
   "cell_type": "code",
   "execution_count": 166,
   "metadata": {},
   "outputs": [
    {
     "data": {
      "text/plain": [
       "(31534, 12)"
      ]
     },
     "execution_count": 166,
     "metadata": {},
     "output_type": "execute_result"
    }
   ],
   "source": [
    "# 数据准备_all_newFeature_sub\n",
    "df_model = df_s[all_newFeature_sub]\n",
    "df_model.shape"
   ]
  },
  {
   "cell_type": "code",
   "execution_count": 171,
   "metadata": {},
   "outputs": [],
   "source": [
    "# 4.1 CatBoost\n"
   ]
  },
  {
   "cell_type": "code",
   "execution_count": null,
   "metadata": {},
   "outputs": [],
   "source": []
  }
 ],
 "metadata": {
  "kernelspec": {
   "display_name": "Python 3",
   "language": "python",
   "name": "python3"
  },
  "language_info": {
   "codemirror_mode": {
    "name": "ipython",
    "version": 3
   },
   "file_extension": ".py",
   "mimetype": "text/x-python",
   "name": "python",
   "nbconvert_exporter": "python",
   "pygments_lexer": "ipython3",
   "version": "3.7.0"
  }
 },
 "nbformat": 4,
 "nbformat_minor": 2
}
