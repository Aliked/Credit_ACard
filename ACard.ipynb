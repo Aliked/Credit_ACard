{
 "cells": [
  {
   "cell_type": "markdown",
   "metadata": {},
   "source": [
    "# 信贷申请评分卡_A卡案例\n",
    "\n",
    "主要项目流程：数据获取、数据清洗(特征初筛)、特征工程、模型建立、模型评价、模型优化等"
   ]
  },
  {
   "cell_type": "code",
   "execution_count": 1,
   "metadata": {},
   "outputs": [],
   "source": [
    "import pandas as pd\n",
    "import numpy as np"
   ]
  },
  {
   "cell_type": "markdown",
   "metadata": {},
   "source": [
    "# 1.数据获取"
   ]
  },
  {
   "cell_type": "code",
   "execution_count": 2,
   "metadata": {},
   "outputs": [],
   "source": [
    "# 数据基本描述：信贷申请数据--42535个样本，144个特征"
   ]
  },
  {
   "cell_type": "code",
   "execution_count": 3,
   "metadata": {},
   "outputs": [
    {
     "data": {
      "text/plain": [
       "(42535, 144)"
      ]
     },
     "execution_count": 3,
     "metadata": {},
     "output_type": "execute_result"
    }
   ],
   "source": [
    "data = pd.read_excel('LoanStats_2018Q3.xlsx')\n",
    "data.shape"
   ]
  },
  {
   "cell_type": "code",
   "execution_count": 4,
   "metadata": {},
   "outputs": [
    {
     "name": "stdout",
     "output_type": "stream",
     "text": [
      "['id', 'loan_amnt', 'funded_amnt', 'funded_amnt_inv', 'term', 'int_rate', 'installment', 'grade', 'sub_grade', 'emp_title', 'emp_length', 'home_ownership', 'annual_inc', 'verification_status', 'issue_d', 'loan_status', 'pymnt_plan', 'url', 'desc', 'purpose', 'title', 'zip_code', 'addr_state', 'dti', 'delinq_2yrs', 'earliest_cr_line', 'inq_last_6mths', 'mths_since_last_delinq', 'mths_since_last_record', 'open_acc', 'pub_rec', 'revol_bal', 'revol_util', 'total_acc', 'initial_list_status', 'out_prncp', 'out_prncp_inv', 'total_pymnt', 'total_pymnt_inv', 'total_rec_prncp', 'total_rec_int', 'total_rec_late_fee', 'recoveries', 'collection_recovery_fee', 'last_pymnt_d', 'last_pymnt_amnt', 'next_pymnt_d', 'last_credit_pull_d', 'collections_12_mths_ex_med', 'mths_since_last_major_derog', 'policy_code', 'application_type', 'annual_inc_joint', 'dti_joint', 'verification_status_joint', 'acc_now_delinq', 'tot_coll_amt', 'tot_cur_bal', 'open_acc_6m', 'open_act_il', 'open_il_12m', 'open_il_24m', 'mths_since_rcnt_il', 'total_bal_il', 'il_util', 'open_rv_12m', 'open_rv_24m', 'max_bal_bc', 'all_util', 'total_rev_hi_lim', 'inq_fi', 'total_cu_tl', 'inq_last_12m', 'acc_open_past_24mths', 'avg_cur_bal', 'bc_open_to_buy', 'bc_util', 'chargeoff_within_12_mths', 'delinq_amnt', 'mo_sin_old_il_acct', 'mo_sin_old_rev_tl_op', 'mo_sin_rcnt_rev_tl_op', 'mo_sin_rcnt_tl', 'mort_acc', 'mths_since_recent_bc', 'mths_since_recent_bc_dlq', 'mths_since_recent_inq', 'mths_since_recent_revol_delinq', 'num_accts_ever_120_pd', 'num_actv_bc_tl', 'num_actv_rev_tl', 'num_bc_sats', 'num_bc_tl', 'num_il_tl', 'num_op_rev_tl', 'num_rev_accts', 'num_rev_tl_bal_gt_0', 'num_sats', 'num_tl_120dpd_2m', 'num_tl_30dpd', 'num_tl_90g_dpd_24m', 'num_tl_op_past_12m', 'pct_tl_nvr_dlq', 'percent_bc_gt_75', 'pub_rec_bankruptcies', 'tax_liens', 'tot_hi_cred_lim', 'total_bal_ex_mort', 'total_bc_limit', 'total_il_high_credit_limit', 'revol_bal_joint', 'sec_app_earliest_cr_line', 'sec_app_inq_last_6mths', 'sec_app_mort_acc', 'sec_app_open_acc', 'sec_app_revol_util', 'sec_app_open_act_il', 'sec_app_num_rev_accts', 'sec_app_chargeoff_within_12_mths', 'sec_app_collections_12_mths_ex_med', 'sec_app_mths_since_last_major_derog', 'hardship_flag', 'hardship_type', 'hardship_reason', 'hardship_status', 'deferral_term', 'hardship_amount', 'hardship_start_date', 'hardship_end_date', 'payment_plan_start_date', 'hardship_length', 'hardship_dpd', 'hardship_loan_status', 'orig_projected_additional_accrued_interest', 'hardship_payoff_balance_amount', 'hardship_last_payment_amount', 'disbursement_method', 'debt_settlement_flag', 'debt_settlement_flag_date', 'settlement_status', 'settlement_date', 'settlement_amount', 'settlement_percentage', 'settlement_term']\n"
     ]
    }
   ],
   "source": [
    "# 特征列表\n",
    "feature_list = list(data)\n",
    "print(feature_list)"
   ]
  },
  {
   "cell_type": "code",
   "execution_count": 5,
   "metadata": {},
   "outputs": [],
   "source": [
    "df = data.copy()"
   ]
  },
  {
   "cell_type": "code",
   "execution_count": 6,
   "metadata": {
    "scrolled": true
   },
   "outputs": [
    {
     "data": {
      "text/html": [
       "<div>\n",
       "<style scoped>\n",
       "    .dataframe tbody tr th:only-of-type {\n",
       "        vertical-align: middle;\n",
       "    }\n",
       "\n",
       "    .dataframe tbody tr th {\n",
       "        vertical-align: top;\n",
       "    }\n",
       "\n",
       "    .dataframe thead th {\n",
       "        text-align: right;\n",
       "    }\n",
       "</style>\n",
       "<table border=\"1\" class=\"dataframe\">\n",
       "  <thead>\n",
       "    <tr style=\"text-align: right;\">\n",
       "      <th></th>\n",
       "      <th>id</th>\n",
       "      <th>loan_amnt</th>\n",
       "      <th>funded_amnt</th>\n",
       "      <th>funded_amnt_inv</th>\n",
       "      <th>term</th>\n",
       "      <th>int_rate</th>\n",
       "      <th>installment</th>\n",
       "      <th>grade</th>\n",
       "      <th>sub_grade</th>\n",
       "      <th>emp_title</th>\n",
       "      <th>...</th>\n",
       "      <th>hardship_payoff_balance_amount</th>\n",
       "      <th>hardship_last_payment_amount</th>\n",
       "      <th>disbursement_method</th>\n",
       "      <th>debt_settlement_flag</th>\n",
       "      <th>debt_settlement_flag_date</th>\n",
       "      <th>settlement_status</th>\n",
       "      <th>settlement_date</th>\n",
       "      <th>settlement_amount</th>\n",
       "      <th>settlement_percentage</th>\n",
       "      <th>settlement_term</th>\n",
       "    </tr>\n",
       "  </thead>\n",
       "  <tbody>\n",
       "    <tr>\n",
       "      <th>0</th>\n",
       "      <td>1</td>\n",
       "      <td>5000</td>\n",
       "      <td>5000</td>\n",
       "      <td>4975.0</td>\n",
       "      <td>36 months</td>\n",
       "      <td>0.1065</td>\n",
       "      <td>162.87</td>\n",
       "      <td>B</td>\n",
       "      <td>B2</td>\n",
       "      <td>NaN</td>\n",
       "      <td>...</td>\n",
       "      <td>NaN</td>\n",
       "      <td>NaN</td>\n",
       "      <td>Cash</td>\n",
       "      <td>N</td>\n",
       "      <td>NaT</td>\n",
       "      <td>NaN</td>\n",
       "      <td>NaT</td>\n",
       "      <td>NaN</td>\n",
       "      <td>NaN</td>\n",
       "      <td>NaN</td>\n",
       "    </tr>\n",
       "    <tr>\n",
       "      <th>1</th>\n",
       "      <td>2</td>\n",
       "      <td>2500</td>\n",
       "      <td>2500</td>\n",
       "      <td>2500.0</td>\n",
       "      <td>60 months</td>\n",
       "      <td>0.1527</td>\n",
       "      <td>59.83</td>\n",
       "      <td>C</td>\n",
       "      <td>C4</td>\n",
       "      <td>Ryder</td>\n",
       "      <td>...</td>\n",
       "      <td>NaN</td>\n",
       "      <td>NaN</td>\n",
       "      <td>Cash</td>\n",
       "      <td>N</td>\n",
       "      <td>NaT</td>\n",
       "      <td>NaN</td>\n",
       "      <td>NaT</td>\n",
       "      <td>NaN</td>\n",
       "      <td>NaN</td>\n",
       "      <td>NaN</td>\n",
       "    </tr>\n",
       "    <tr>\n",
       "      <th>2</th>\n",
       "      <td>3</td>\n",
       "      <td>2400</td>\n",
       "      <td>2400</td>\n",
       "      <td>2400.0</td>\n",
       "      <td>36 months</td>\n",
       "      <td>0.1596</td>\n",
       "      <td>84.33</td>\n",
       "      <td>C</td>\n",
       "      <td>C5</td>\n",
       "      <td>NaN</td>\n",
       "      <td>...</td>\n",
       "      <td>NaN</td>\n",
       "      <td>NaN</td>\n",
       "      <td>Cash</td>\n",
       "      <td>N</td>\n",
       "      <td>NaT</td>\n",
       "      <td>NaN</td>\n",
       "      <td>NaT</td>\n",
       "      <td>NaN</td>\n",
       "      <td>NaN</td>\n",
       "      <td>NaN</td>\n",
       "    </tr>\n",
       "    <tr>\n",
       "      <th>3</th>\n",
       "      <td>4</td>\n",
       "      <td>10000</td>\n",
       "      <td>10000</td>\n",
       "      <td>10000.0</td>\n",
       "      <td>36 months</td>\n",
       "      <td>0.1349</td>\n",
       "      <td>339.31</td>\n",
       "      <td>C</td>\n",
       "      <td>C1</td>\n",
       "      <td>AIR RESOURCES BOARD</td>\n",
       "      <td>...</td>\n",
       "      <td>NaN</td>\n",
       "      <td>NaN</td>\n",
       "      <td>Cash</td>\n",
       "      <td>N</td>\n",
       "      <td>NaT</td>\n",
       "      <td>NaN</td>\n",
       "      <td>NaT</td>\n",
       "      <td>NaN</td>\n",
       "      <td>NaN</td>\n",
       "      <td>NaN</td>\n",
       "    </tr>\n",
       "    <tr>\n",
       "      <th>4</th>\n",
       "      <td>5</td>\n",
       "      <td>3000</td>\n",
       "      <td>3000</td>\n",
       "      <td>3000.0</td>\n",
       "      <td>60 months</td>\n",
       "      <td>0.1269</td>\n",
       "      <td>67.79</td>\n",
       "      <td>B</td>\n",
       "      <td>B5</td>\n",
       "      <td>University Medical Group</td>\n",
       "      <td>...</td>\n",
       "      <td>NaN</td>\n",
       "      <td>NaN</td>\n",
       "      <td>Cash</td>\n",
       "      <td>N</td>\n",
       "      <td>NaT</td>\n",
       "      <td>NaN</td>\n",
       "      <td>NaT</td>\n",
       "      <td>NaN</td>\n",
       "      <td>NaN</td>\n",
       "      <td>NaN</td>\n",
       "    </tr>\n",
       "  </tbody>\n",
       "</table>\n",
       "<p>5 rows × 144 columns</p>\n",
       "</div>"
      ],
      "text/plain": [
       "   id  loan_amnt  funded_amnt  funded_amnt_inv        term  int_rate  \\\n",
       "0   1       5000         5000           4975.0   36 months    0.1065   \n",
       "1   2       2500         2500           2500.0   60 months    0.1527   \n",
       "2   3       2400         2400           2400.0   36 months    0.1596   \n",
       "3   4      10000        10000          10000.0   36 months    0.1349   \n",
       "4   5       3000         3000           3000.0   60 months    0.1269   \n",
       "\n",
       "   installment grade sub_grade                 emp_title       ...        \\\n",
       "0       162.87     B        B2                       NaN       ...         \n",
       "1        59.83     C        C4                     Ryder       ...         \n",
       "2        84.33     C        C5                       NaN       ...         \n",
       "3       339.31     C        C1       AIR RESOURCES BOARD       ...         \n",
       "4        67.79     B        B5  University Medical Group       ...         \n",
       "\n",
       "  hardship_payoff_balance_amount hardship_last_payment_amount  \\\n",
       "0                            NaN                          NaN   \n",
       "1                            NaN                          NaN   \n",
       "2                            NaN                          NaN   \n",
       "3                            NaN                          NaN   \n",
       "4                            NaN                          NaN   \n",
       "\n",
       "   disbursement_method debt_settlement_flag debt_settlement_flag_date  \\\n",
       "0                 Cash                    N                       NaT   \n",
       "1                 Cash                    N                       NaT   \n",
       "2                 Cash                    N                       NaT   \n",
       "3                 Cash                    N                       NaT   \n",
       "4                 Cash                    N                       NaT   \n",
       "\n",
       "  settlement_status settlement_date  settlement_amount settlement_percentage  \\\n",
       "0               NaN             NaT                NaN                   NaN   \n",
       "1               NaN             NaT                NaN                   NaN   \n",
       "2               NaN             NaT                NaN                   NaN   \n",
       "3               NaN             NaT                NaN                   NaN   \n",
       "4               NaN             NaT                NaN                   NaN   \n",
       "\n",
       "  settlement_term  \n",
       "0             NaN  \n",
       "1             NaN  \n",
       "2             NaN  \n",
       "3             NaN  \n",
       "4             NaN  \n",
       "\n",
       "[5 rows x 144 columns]"
      ]
     },
     "execution_count": 6,
     "metadata": {},
     "output_type": "execute_result"
    }
   ],
   "source": [
    "df.head()"
   ]
  },
  {
   "cell_type": "markdown",
   "metadata": {},
   "source": [
    "# 2.数据清洗（特征初筛）"
   ]
  },
  {
   "cell_type": "code",
   "execution_count": 7,
   "metadata": {},
   "outputs": [
    {
     "name": "stdout",
     "output_type": "stream",
     "text": [
      "(42535, 144)\n"
     ]
    },
    {
     "data": {
      "text/plain": [
       "(42535, 126)"
      ]
     },
     "execution_count": 7,
     "metadata": {},
     "output_type": "execute_result"
    }
   ],
   "source": [
    "# 2.1 申请评分卡使用的数据不能是借款人借款后的信息，需删除18个特征\n",
    "del_feature_list = ['sub_grade','grade','initial_list_status','out_prncp','out_prncp_inv','total_pymnt','total_pymnt_inv',\n",
    "                    'total_rec_prncp','total_rec_int','total_rec_late_fee','recoveries','collection_recovery_fee','last_pymnt_d',\n",
    "                    'last_pymnt_amnt','last_credit_pull_d','collections_12_mths_ex_med','policy_code','disbursement_method']\n",
    "print(df.shape)\n",
    "df_01 = df.copy().drop(columns=del_feature_list, axis=1)\n",
    "df_01.shape"
   ]
  },
  {
   "cell_type": "code",
   "execution_count": 8,
   "metadata": {},
   "outputs": [
    {
     "data": {
      "text/plain": [
       "(42535, 124)"
      ]
     },
     "execution_count": 8,
     "metadata": {},
     "output_type": "execute_result"
    }
   ],
   "source": [
    "# 2.2 删除客户隐私的字段:['emp_title','title']\n",
    "customer_info = ['emp_title','title']\n",
    "df_02 = df_01.drop(columns=customer_info, axis=1)\n",
    "df_02.shape"
   ]
  },
  {
   "cell_type": "code",
   "execution_count": 9,
   "metadata": {},
   "outputs": [
    {
     "data": {
      "text/plain": [
       "(42535, 124)"
      ]
     },
     "execution_count": 9,
     "metadata": {},
     "output_type": "execute_result"
    }
   ],
   "source": [
    "# 2.3 去重，删除空行\n",
    "df_03 = df_02.drop_duplicates('id').dropna(axis=0, how='all')\n",
    "df_03.shape"
   ]
  },
  {
   "cell_type": "code",
   "execution_count": 10,
   "metadata": {},
   "outputs": [
    {
     "name": "stdout",
     "output_type": "stream",
     "text": [
      "86\n"
     ]
    },
    {
     "data": {
      "text/plain": [
       "(42535, 38)"
      ]
     },
     "execution_count": 10,
     "metadata": {},
     "output_type": "execute_result"
    }
   ],
   "source": [
    "# 2.4 删除缺失率大于0.95的字段\n",
    "# is_null = [df_03[i_feature].isnull().sum() for i_feature in list(df_03)]\n",
    "cols_null = []\n",
    "for col_null in df_03.columns:\n",
    "    if df_03[col_null].isnull().sum() > (df_03.shape[0])*0.95:\n",
    "        cols_null.append(col_null)\n",
    "print(len(cols_null))\n",
    "df_04 = df_03.drop(cols_null, axis=1)\n",
    "df_04.shape"
   ]
  },
  {
   "cell_type": "code",
   "execution_count": 11,
   "metadata": {},
   "outputs": [
    {
     "name": "stdout",
     "output_type": "stream",
     "text": [
      "['pymnt_plan', 'application_type', 'acc_now_delinq', 'chargeoff_within_12_mths', 'delinq_amnt', 'tax_liens', 'hardship_flag', 'debt_settlement_flag']\n"
     ]
    },
    {
     "data": {
      "text/plain": [
       "(42535, 30)"
      ]
     },
     "execution_count": 11,
     "metadata": {},
     "output_type": "execute_result"
    }
   ],
   "source": [
    "# 例：唯一值\n",
    "# 2.5 判断每个特征值的分布，若存在某一个值占比超过95%，则删除(分箱前提)\n",
    "col_handle = []\n",
    "for col_ in df_04.columns:\n",
    "    if df_04[col_].value_counts().max() > df_04.shape[0]*0.95:\n",
    "        col_handle.append(col_)\n",
    "print(col_handle)\n",
    "df_05 = df_04.drop(col_handle, axis=1)\n",
    "df_05.shape"
   ]
  },
  {
   "cell_type": "code",
   "execution_count": 12,
   "metadata": {},
   "outputs": [
    {
     "data": {
      "text/plain": [
       "(42535, 29)"
      ]
     },
     "execution_count": 12,
     "metadata": {},
     "output_type": "execute_result"
    }
   ],
   "source": [
    "# 2.6 删除id号\n",
    "df_06 = df_05.drop('id', axis=1)\n",
    "df_06.shape"
   ]
  },
  {
   "cell_type": "code",
   "execution_count": 13,
   "metadata": {},
   "outputs": [
    {
     "name": "stdout",
     "output_type": "stream",
     "text": [
      " 36 months    31534\n",
      " 60 months    11001\n",
      "Name: term, dtype: int64\n"
     ]
    },
    {
     "data": {
      "text/plain": [
       "(31534, 29)"
      ]
     },
     "execution_count": 13,
     "metadata": {},
     "output_type": "execute_result"
    }
   ],
   "source": [
    "# 2.7 查看借款期限，并选出借款36期的样本\n",
    "print(df_06['term'].value_counts())\n",
    "df_06['term'] = df_06['term'].replace(' 36 months', 36).replace(' 60 months', 60)\n",
    "df_final = df_06[df_06['term']==36]\n",
    "df_final.shape"
   ]
  },
  {
   "cell_type": "code",
   "execution_count": 14,
   "metadata": {},
   "outputs": [],
   "source": [
    "# def feature_info(df_final):\n",
    "#     result_info = []\n",
    "#     for col_i in df_final.columns:\n",
    "#         result_info.append(df_final[col_i].unique())\n",
    "#     return result_info\n",
    "\n",
    "# result_info = feature_info(df_final)\n",
    "# result_info"
   ]
  },
  {
   "cell_type": "code",
   "execution_count": 15,
   "metadata": {},
   "outputs": [
    {
     "name": "stdout",
     "output_type": "stream",
     "text": [
      "['emp_length', 'home_ownership', 'verification_status', 'loan_status', 'desc', 'purpose', 'zip_code', 'addr_state', 'delinq_2yrs', 'total_acc']\n",
      "Index(['loan_amnt', 'funded_amnt', 'funded_amnt_inv', 'term', 'int_rate',\n",
      "       'installment', 'annual_inc', 'issue_d', 'dti', 'earliest_cr_line',\n",
      "       'inq_last_6mths', 'mths_since_last_delinq', 'mths_since_last_record',\n",
      "       'open_acc', 'pub_rec', 'revol_bal', 'revol_util', 'next_pymnt_d',\n",
      "       'pub_rec_bankruptcies'],\n",
      "      dtype='object')\n"
     ]
    }
   ],
   "source": [
    "# 2.8 数据类型查看与转换\n",
    "def obj_feature(df_final):\n",
    "    obj_feature = []\n",
    "    for obj_f in df_final.columns:\n",
    "        if df_final[obj_f].dtypes == 'object':\n",
    "            obj_feature.append(obj_f)\n",
    "    print(obj_feature)\n",
    "    return obj_feature\n",
    "\n",
    "obj_feature = obj_feature(df_final)\n",
    "\n",
    "# 连续型特征\n",
    "other_feature = df_final.columns.drop(obj_feature)\n",
    "len(other_feature)\n",
    "print(other_feature)"
   ]
  },
  {
   "cell_type": "code",
   "execution_count": 16,
   "metadata": {},
   "outputs": [
    {
     "data": {
      "text/html": [
       "<div>\n",
       "<style scoped>\n",
       "    .dataframe tbody tr th:only-of-type {\n",
       "        vertical-align: middle;\n",
       "    }\n",
       "\n",
       "    .dataframe tbody tr th {\n",
       "        vertical-align: top;\n",
       "    }\n",
       "\n",
       "    .dataframe thead th {\n",
       "        text-align: right;\n",
       "    }\n",
       "</style>\n",
       "<table border=\"1\" class=\"dataframe\">\n",
       "  <thead>\n",
       "    <tr style=\"text-align: right;\">\n",
       "      <th></th>\n",
       "      <th>emp_length</th>\n",
       "      <th>home_ownership</th>\n",
       "      <th>verification_status</th>\n",
       "      <th>loan_status</th>\n",
       "      <th>desc</th>\n",
       "      <th>purpose</th>\n",
       "      <th>zip_code</th>\n",
       "      <th>addr_state</th>\n",
       "      <th>delinq_2yrs</th>\n",
       "      <th>total_acc</th>\n",
       "    </tr>\n",
       "  </thead>\n",
       "  <tbody>\n",
       "    <tr>\n",
       "      <th>0</th>\n",
       "      <td>10+ years</td>\n",
       "      <td>RENT</td>\n",
       "      <td>Verified</td>\n",
       "      <td>Fully Paid</td>\n",
       "      <td>Borrower added on 12/22/11 &gt; I need to upgra...</td>\n",
       "      <td>credit_card</td>\n",
       "      <td>860xx</td>\n",
       "      <td>AZ</td>\n",
       "      <td>0</td>\n",
       "      <td>9</td>\n",
       "    </tr>\n",
       "    <tr>\n",
       "      <th>2</th>\n",
       "      <td>10+ years</td>\n",
       "      <td>RENT</td>\n",
       "      <td>Not Verified</td>\n",
       "      <td>Fully Paid</td>\n",
       "      <td>NaN</td>\n",
       "      <td>small_business</td>\n",
       "      <td>606xx</td>\n",
       "      <td>IL</td>\n",
       "      <td>0</td>\n",
       "      <td>10</td>\n",
       "    </tr>\n",
       "    <tr>\n",
       "      <th>3</th>\n",
       "      <td>10+ years</td>\n",
       "      <td>RENT</td>\n",
       "      <td>Source Verified</td>\n",
       "      <td>Fully Paid</td>\n",
       "      <td>Borrower added on 12/21/11 &gt; to pay for prop...</td>\n",
       "      <td>other</td>\n",
       "      <td>917xx</td>\n",
       "      <td>CA</td>\n",
       "      <td>0</td>\n",
       "      <td>37</td>\n",
       "    </tr>\n",
       "    <tr>\n",
       "      <th>5</th>\n",
       "      <td>3 years</td>\n",
       "      <td>RENT</td>\n",
       "      <td>Source Verified</td>\n",
       "      <td>Fully Paid</td>\n",
       "      <td>NaN</td>\n",
       "      <td>wedding</td>\n",
       "      <td>852xx</td>\n",
       "      <td>AZ</td>\n",
       "      <td>0</td>\n",
       "      <td>12</td>\n",
       "    </tr>\n",
       "    <tr>\n",
       "      <th>7</th>\n",
       "      <td>9 years</td>\n",
       "      <td>RENT</td>\n",
       "      <td>Source Verified</td>\n",
       "      <td>Fully Paid</td>\n",
       "      <td>Borrower added on 12/16/11 &gt; Downpayment for...</td>\n",
       "      <td>car</td>\n",
       "      <td>900xx</td>\n",
       "      <td>CA</td>\n",
       "      <td>0</td>\n",
       "      <td>4</td>\n",
       "    </tr>\n",
       "  </tbody>\n",
       "</table>\n",
       "</div>"
      ],
      "text/plain": [
       "  emp_length home_ownership verification_status loan_status  \\\n",
       "0  10+ years           RENT            Verified  Fully Paid   \n",
       "2  10+ years           RENT        Not Verified  Fully Paid   \n",
       "3  10+ years           RENT     Source Verified  Fully Paid   \n",
       "5    3 years           RENT     Source Verified  Fully Paid   \n",
       "7    9 years           RENT     Source Verified  Fully Paid   \n",
       "\n",
       "                                                desc         purpose zip_code  \\\n",
       "0    Borrower added on 12/22/11 > I need to upgra...     credit_card    860xx   \n",
       "2                                                NaN  small_business    606xx   \n",
       "3    Borrower added on 12/21/11 > to pay for prop...           other    917xx   \n",
       "5                                                NaN         wedding    852xx   \n",
       "7    Borrower added on 12/16/11 > Downpayment for...             car    900xx   \n",
       "\n",
       "  addr_state delinq_2yrs total_acc  \n",
       "0         AZ           0         9  \n",
       "2         IL           0        10  \n",
       "3         CA           0        37  \n",
       "5         AZ           0        12  \n",
       "7         CA           0         4  "
      ]
     },
     "execution_count": 16,
     "metadata": {},
     "output_type": "execute_result"
    }
   ],
   "source": [
    "df_final[obj_feature].head()"
   ]
  },
  {
   "cell_type": "code",
   "execution_count": 17,
   "metadata": {},
   "outputs": [
    {
     "name": "stdout",
     "output_type": "stream",
     "text": [
      "['10+ years' '3 years' '9 years' '< 1 year' '4 years' '1 year' '6 years'\n",
      " '5 years' '2 years' '7 years' '8 years' nan]\n"
     ]
    }
   ],
   "source": [
    "# 特征值查看\n",
    "# 1) emp_length--工作年限\n",
    "df_finals = df_final.copy()\n",
    "# print(df_finals['emp_length'].value_counts())\n",
    "print(df_finals['emp_length'].unique())\n",
    "\n",
    "def emp_length_new(x):\n",
    "    if x=='< 1 year':\n",
    "        return 0\n",
    "    elif x=='1 year':\n",
    "        return 1\n",
    "    elif x=='10+ years':\n",
    "        return 11\n",
    "    elif str(x)=='nan':\n",
    "        return np.nan\n",
    "    else:\n",
    "        return x.replace(' years', '')\n",
    "    \n",
    "df_finals['emp_length'] =df_finals['emp_length'].map(lambda x: emp_length_new(x))\n",
    "df_finals['emp_length'].unique()\n",
    "df_finals['emp_length'] = df_finals['emp_length'].apply(pd.to_numeric, errors='coerce')\n",
    "# print('===================================')\n",
    "\n",
    "# 2) home_ownership--房产权:类别型特征\n",
    "# print(df_finals['home_ownership'].value_counts())\n",
    "# print('===================================')\n",
    "\n",
    "# 3) verification_status--验证状态:类别型特征\n",
    "# print(df_finals['verification_status'].value_counts())\n",
    "# print('===================================')\n",
    "\n",
    "# 4) loan_status--贷款状态:y\n",
    "# df_finals['loan_status'].value_counts()\n",
    "df_finals['loan_status'] = df_finals['loan_status'].copy().map(lambda x: 1 if 'Charged Off' in x else 0)\n",
    "# print(df_finals['loan_status'].value_counts())\n",
    "# print('===================================')\n",
    "\n",
    "# 5) desc--自然语言模块，暂不考虑\n",
    "df_finals = df_finals.drop('desc', axis=1)\n",
    "# print('===================================')\n",
    "\n",
    "# 6) purpose--用途：类别型特征\n",
    "# print(df_finals['purpose'].value_counts())\n",
    "# print('===================================')\n",
    "\n",
    "# 7) zip_code--邮政编码\n",
    "df_finals = df_finals.drop('zip_code', axis=1)\n",
    "# print('===================================')\n",
    "\n",
    "# 8) addr_state--地址状态：类别型特征\n",
    "# print(df_finals['addr_state'].value_counts())\n",
    "# print('===================================')\n",
    "\n",
    "# 9) delinq_2yrs：过去两年逾期次数\n",
    "# print(df_finals['delinq_2yrs'].value_counts())\n",
    "set(df_finals['delinq_2yrs'])\n",
    "df_finals['delinq_2yrs'] = df_finals['delinq_2yrs'].apply(pd.to_numeric, errors='coerce')\n",
    "\n",
    "# 10) total_acc\n",
    "set(df_finals['total_acc'])\n",
    "df_finals['total_acc'] = df_finals['total_acc'].apply(pd.to_numeric, errors='coerce')"
   ]
  },
  {
   "cell_type": "code",
   "execution_count": 194,
   "metadata": {},
   "outputs": [
    {
     "name": "stdout",
     "output_type": "stream",
     "text": [
      "16\n",
      "<class 'pandas.core.frame.DataFrame'>\n",
      "Int64Index: 31534 entries, 0 to 42534\n",
      "Data columns (total 28 columns):\n",
      "loan_amnt                 31534 non-null int64\n",
      "funded_amnt               31534 non-null int64\n",
      "funded_amnt_inv           31534 non-null float64\n",
      "term                      31534 non-null int64\n",
      "int_rate                  31534 non-null float64\n",
      "installment               31534 non-null float64\n",
      "emp_length                31534 non-null object\n",
      "home_ownership            31534 non-null object\n",
      "annual_inc                31530 non-null float64\n",
      "verification_status       31534 non-null object\n",
      "issue_d                   31534 non-null datetime64[ns]\n",
      "loan_status               31534 non-null int64\n",
      "purpose                   31534 non-null object\n",
      "addr_state                31534 non-null object\n",
      "dti                       31534 non-null float64\n",
      "delinq_2yrs               31504 non-null float64\n",
      "earliest_cr_line          31505 non-null datetime64[ns]\n",
      "inq_last_6mths            31505 non-null float64\n",
      "mths_since_last_delinq    11787 non-null float64\n",
      "mths_since_last_record    3004 non-null float64\n",
      "open_acc                  31505 non-null float64\n",
      "pub_rec                   31505 non-null float64\n",
      "revol_bal                 31534 non-null float64\n",
      "revol_util                31448 non-null float64\n",
      "total_acc                 31504 non-null float64\n",
      "next_pymnt_d              2439 non-null datetime64[ns]\n",
      "pub_rec_bankruptcies      30169 non-null float64\n",
      "pnt_loan_annual           31530 non-null float64\n",
      "dtypes: datetime64[ns](3), float64(16), int64(4), object(5)\n",
      "memory usage: 7.0+ MB\n"
     ]
    }
   ],
   "source": [
    "# 类别型特征:home_ownership, verification_status, purpose, addr_state\n",
    "char_feature = ['emp_length', 'home_ownership', 'verification_status', 'purpose', 'addr_state']\n",
    "# 日期型特征：issue_d，earliest_cr_line，next_pymnt_d\n",
    "time_feature = ['issue_d', 'earliest_cr_line', 'next_pymnt_d']\n",
    "df_finals[time_feature] = df_finals[time_feature].apply(pd.to_datetime)\n",
    "# 连续型特征\n",
    "num_feature = other_feature.drop(time_feature)\n",
    "print(len(num_feature))\n",
    "for i_f in num_feature:\n",
    "    df_finals[i_f] = df_finals[i_f].apply(pd.to_numeric, errors='coerce')\n",
    "df_finals.info()"
   ]
  },
  {
   "cell_type": "code",
   "execution_count": 19,
   "metadata": {},
   "outputs": [
    {
     "data": {
      "text/plain": [
       "(31534, 25)"
      ]
     },
     "execution_count": 19,
     "metadata": {},
     "output_type": "execute_result"
    }
   ],
   "source": [
    "# 2.9 特征衍生：loan_amnt贷款额度，annual_inc年收入（贷款收入比）\n",
    "# df_finals[['loan_amnt','annual_inc', 'issue_d', 'earliest_cr_line', 'next_pymnt_d']]\n",
    "df_finals['pnt_loan_annual'] = df_finals.loan_amnt/df_finals.annual_inc\n",
    "\n",
    "# 2.10 去除日期字段\n",
    "df_s = df_finals.drop(time_feature, axis=1)\n",
    "df_s.shape"
   ]
  },
  {
   "cell_type": "code",
   "execution_count": 20,
   "metadata": {},
   "outputs": [],
   "source": [
    "# *数据探索\n",
    "# 类别型(离散)特征: 每个特征值分布概率值\n",
    "def data_distributed(df_finals, char_feature):\n",
    "    rate_feature_all = []\n",
    "    for col in char_feature:\n",
    "        result = df_finals[col].value_counts()\n",
    "        #print('char_feature_name:', col)\n",
    "        rate_feature = []\n",
    "        for v_i in range(len(result)):\n",
    "            rate = result[v_i]/result.sum()\n",
    "            rate_feature.append(rate)\n",
    "        rate_feature = pd.Series(rate_feature).to_frame().reset_index().rename(columns={'index':'id', 0: 'rate'})\n",
    "        result = pd.Series(result).to_frame().reset_index().reset_index().rename(columns={'level_0':'id', 'index':'f_name',\n",
    "                                                                                          'home_ownership':'value_count'})\n",
    "        rate_feature = pd.merge(result, rate_feature, on=['id']).drop('id', axis=1)\n",
    "        rate_feature_all.append(rate_feature)\n",
    "    return rate_feature_all\n",
    "df_finals['emp_length'] = df_finals['emp_length'].astype('str')\n",
    "# df_finals['emp_length'].dtypes\n",
    "rate_feature_all = data_distributed(df_finals, char_feature)\n",
    "# rate_feature_all"
   ]
  },
  {
   "cell_type": "code",
   "execution_count": 21,
   "metadata": {
    "scrolled": true
   },
   "outputs": [
    {
     "name": "stdout",
     "output_type": "stream",
     "text": [
      "emp_length             835\n",
      "home_ownership           0\n",
      "verification_status      0\n",
      "purpose                  0\n",
      "addr_state               0\n",
      "dtype: int64\n",
      "==============next=============\n",
      "loan_amnt                     0\n",
      "funded_amnt                   0\n",
      "funded_amnt_inv               0\n",
      "term                          0\n",
      "int_rate                      0\n",
      "installment                   0\n",
      "annual_inc                    4\n",
      "dti                           0\n",
      "inq_last_6mths               29\n",
      "mths_since_last_delinq    19747\n",
      "mths_since_last_record    28530\n",
      "open_acc                     29\n",
      "pub_rec                      29\n",
      "revol_bal                     0\n",
      "revol_util                   86\n",
      "pub_rec_bankruptcies       1365\n",
      "dtype: int64\n"
     ]
    }
   ],
   "source": [
    "# 2.10 缺失值查看与处理\n",
    "# 离散特征\n",
    "print(df_s[char_feature].isnull().sum())\n",
    "print('==============next=============')\n",
    "\n",
    "# 连续型特征\n",
    "print(df_s[num_feature].isnull().sum())\n",
    "# 缺失值处理：-999填充\n",
    "df_s = df_s.fillna(-999)"
   ]
  },
  {
   "cell_type": "code",
   "execution_count": 22,
   "metadata": {},
   "outputs": [
    {
     "data": {
      "text/html": [
       "<div>\n",
       "<style scoped>\n",
       "    .dataframe tbody tr th:only-of-type {\n",
       "        vertical-align: middle;\n",
       "    }\n",
       "\n",
       "    .dataframe tbody tr th {\n",
       "        vertical-align: top;\n",
       "    }\n",
       "\n",
       "    .dataframe thead th {\n",
       "        text-align: right;\n",
       "    }\n",
       "</style>\n",
       "<table border=\"1\" class=\"dataframe\">\n",
       "  <thead>\n",
       "    <tr style=\"text-align: right;\">\n",
       "      <th></th>\n",
       "      <th>loan_amnt</th>\n",
       "      <th>funded_amnt</th>\n",
       "      <th>funded_amnt_inv</th>\n",
       "      <th>term</th>\n",
       "      <th>int_rate</th>\n",
       "      <th>installment</th>\n",
       "      <th>emp_length</th>\n",
       "      <th>home_ownership</th>\n",
       "      <th>annual_inc</th>\n",
       "      <th>verification_status</th>\n",
       "      <th>...</th>\n",
       "      <th>inq_last_6mths</th>\n",
       "      <th>mths_since_last_delinq</th>\n",
       "      <th>mths_since_last_record</th>\n",
       "      <th>open_acc</th>\n",
       "      <th>pub_rec</th>\n",
       "      <th>revol_bal</th>\n",
       "      <th>revol_util</th>\n",
       "      <th>total_acc</th>\n",
       "      <th>pub_rec_bankruptcies</th>\n",
       "      <th>pnt_loan_annual</th>\n",
       "    </tr>\n",
       "  </thead>\n",
       "  <tbody>\n",
       "    <tr>\n",
       "      <th>0</th>\n",
       "      <td>5000</td>\n",
       "      <td>5000</td>\n",
       "      <td>4975.0</td>\n",
       "      <td>36</td>\n",
       "      <td>0.1065</td>\n",
       "      <td>162.87</td>\n",
       "      <td>11.0</td>\n",
       "      <td>RENT</td>\n",
       "      <td>24000.0</td>\n",
       "      <td>Verified</td>\n",
       "      <td>...</td>\n",
       "      <td>1.0</td>\n",
       "      <td>-999.0</td>\n",
       "      <td>-999.0</td>\n",
       "      <td>3.0</td>\n",
       "      <td>0.0</td>\n",
       "      <td>13648.0</td>\n",
       "      <td>0.837</td>\n",
       "      <td>9.0</td>\n",
       "      <td>0.0</td>\n",
       "      <td>0.208333</td>\n",
       "    </tr>\n",
       "    <tr>\n",
       "      <th>2</th>\n",
       "      <td>2400</td>\n",
       "      <td>2400</td>\n",
       "      <td>2400.0</td>\n",
       "      <td>36</td>\n",
       "      <td>0.1596</td>\n",
       "      <td>84.33</td>\n",
       "      <td>11.0</td>\n",
       "      <td>RENT</td>\n",
       "      <td>12252.0</td>\n",
       "      <td>Not Verified</td>\n",
       "      <td>...</td>\n",
       "      <td>2.0</td>\n",
       "      <td>-999.0</td>\n",
       "      <td>-999.0</td>\n",
       "      <td>2.0</td>\n",
       "      <td>0.0</td>\n",
       "      <td>2956.0</td>\n",
       "      <td>0.985</td>\n",
       "      <td>10.0</td>\n",
       "      <td>0.0</td>\n",
       "      <td>0.195886</td>\n",
       "    </tr>\n",
       "    <tr>\n",
       "      <th>3</th>\n",
       "      <td>10000</td>\n",
       "      <td>10000</td>\n",
       "      <td>10000.0</td>\n",
       "      <td>36</td>\n",
       "      <td>0.1349</td>\n",
       "      <td>339.31</td>\n",
       "      <td>11.0</td>\n",
       "      <td>RENT</td>\n",
       "      <td>49200.0</td>\n",
       "      <td>Source Verified</td>\n",
       "      <td>...</td>\n",
       "      <td>1.0</td>\n",
       "      <td>35.0</td>\n",
       "      <td>-999.0</td>\n",
       "      <td>10.0</td>\n",
       "      <td>0.0</td>\n",
       "      <td>5598.0</td>\n",
       "      <td>0.210</td>\n",
       "      <td>37.0</td>\n",
       "      <td>0.0</td>\n",
       "      <td>0.203252</td>\n",
       "    </tr>\n",
       "    <tr>\n",
       "      <th>5</th>\n",
       "      <td>5000</td>\n",
       "      <td>5000</td>\n",
       "      <td>5000.0</td>\n",
       "      <td>36</td>\n",
       "      <td>0.0790</td>\n",
       "      <td>156.46</td>\n",
       "      <td>3.0</td>\n",
       "      <td>RENT</td>\n",
       "      <td>36000.0</td>\n",
       "      <td>Source Verified</td>\n",
       "      <td>...</td>\n",
       "      <td>3.0</td>\n",
       "      <td>-999.0</td>\n",
       "      <td>-999.0</td>\n",
       "      <td>9.0</td>\n",
       "      <td>0.0</td>\n",
       "      <td>7963.0</td>\n",
       "      <td>0.283</td>\n",
       "      <td>12.0</td>\n",
       "      <td>0.0</td>\n",
       "      <td>0.138889</td>\n",
       "    </tr>\n",
       "    <tr>\n",
       "      <th>7</th>\n",
       "      <td>3000</td>\n",
       "      <td>3000</td>\n",
       "      <td>3000.0</td>\n",
       "      <td>36</td>\n",
       "      <td>0.1864</td>\n",
       "      <td>109.43</td>\n",
       "      <td>9.0</td>\n",
       "      <td>RENT</td>\n",
       "      <td>48000.0</td>\n",
       "      <td>Source Verified</td>\n",
       "      <td>...</td>\n",
       "      <td>2.0</td>\n",
       "      <td>-999.0</td>\n",
       "      <td>-999.0</td>\n",
       "      <td>4.0</td>\n",
       "      <td>0.0</td>\n",
       "      <td>8221.0</td>\n",
       "      <td>0.875</td>\n",
       "      <td>4.0</td>\n",
       "      <td>0.0</td>\n",
       "      <td>0.062500</td>\n",
       "    </tr>\n",
       "  </tbody>\n",
       "</table>\n",
       "<p>5 rows × 25 columns</p>\n",
       "</div>"
      ],
      "text/plain": [
       "   loan_amnt  funded_amnt  funded_amnt_inv  term  int_rate  installment  \\\n",
       "0       5000         5000           4975.0    36    0.1065       162.87   \n",
       "2       2400         2400           2400.0    36    0.1596        84.33   \n",
       "3      10000        10000          10000.0    36    0.1349       339.31   \n",
       "5       5000         5000           5000.0    36    0.0790       156.46   \n",
       "7       3000         3000           3000.0    36    0.1864       109.43   \n",
       "\n",
       "   emp_length home_ownership  annual_inc verification_status       ...         \\\n",
       "0        11.0           RENT     24000.0            Verified       ...          \n",
       "2        11.0           RENT     12252.0        Not Verified       ...          \n",
       "3        11.0           RENT     49200.0     Source Verified       ...          \n",
       "5         3.0           RENT     36000.0     Source Verified       ...          \n",
       "7         9.0           RENT     48000.0     Source Verified       ...          \n",
       "\n",
       "   inq_last_6mths mths_since_last_delinq mths_since_last_record  open_acc  \\\n",
       "0             1.0                 -999.0                 -999.0       3.0   \n",
       "2             2.0                 -999.0                 -999.0       2.0   \n",
       "3             1.0                   35.0                 -999.0      10.0   \n",
       "5             3.0                 -999.0                 -999.0       9.0   \n",
       "7             2.0                 -999.0                 -999.0       4.0   \n",
       "\n",
       "   pub_rec  revol_bal  revol_util  total_acc  pub_rec_bankruptcies  \\\n",
       "0      0.0    13648.0       0.837        9.0                   0.0   \n",
       "2      0.0     2956.0       0.985       10.0                   0.0   \n",
       "3      0.0     5598.0       0.210       37.0                   0.0   \n",
       "5      0.0     7963.0       0.283       12.0                   0.0   \n",
       "7      0.0     8221.0       0.875        4.0                   0.0   \n",
       "\n",
       "   pnt_loan_annual  \n",
       "0         0.208333  \n",
       "2         0.195886  \n",
       "3         0.203252  \n",
       "5         0.138889  \n",
       "7         0.062500  \n",
       "\n",
       "[5 rows x 25 columns]"
      ]
     },
     "execution_count": 22,
     "metadata": {},
     "output_type": "execute_result"
    }
   ],
   "source": [
    "# 定义y标签：贷款状态(好样本0，坏样本1)\n",
    "df_s=df_s.rename(columns={'loan_status':'y'})\n",
    "df_s.head()"
   ]
  },
  {
   "cell_type": "markdown",
   "metadata": {},
   "source": [
    "# 3.特征工程"
   ]
  },
  {
   "cell_type": "code",
   "execution_count": 183,
   "metadata": {},
   "outputs": [],
   "source": [
    "# 根据iv值、相关性、多重共线性等筛选特征"
   ]
  },
  {
   "cell_type": "code",
   "execution_count": 184,
   "metadata": {},
   "outputs": [
    {
     "data": {
      "text/plain": [
       "(31534, 6)"
      ]
     },
     "execution_count": 184,
     "metadata": {},
     "output_type": "execute_result"
    }
   ],
   "source": [
    "# 3.1 离散(类别型)特征\n",
    "char_df = pd.concat([df_s[char_feature], df_s['y']], axis=1)\n",
    "char_df.shape"
   ]
  },
  {
   "cell_type": "code",
   "execution_count": 185,
   "metadata": {},
   "outputs": [],
   "source": [
    "# 离散：计算每个特征的iv值\n",
    "def char_feature_iv(char_df, label):\n",
    "    print(char_df.shape, '\\n计算离散特征的iv值:')\n",
    "    all_feature_iv = []\n",
    "    char_feature_name = []\n",
    "    for char_f in list(char_df):\n",
    "        if char_f not in label:\n",
    "            char_feature_name.append(char_f)\n",
    "            #print('feature:', char_f)\n",
    "            df = pd.concat([char_df[char_f], char_df[label]], axis=1)\n",
    "            #print(df.shape)\n",
    "            # 好样本统计\n",
    "            good_df = df[df[label]==0]\n",
    "            good_count = good_df[char_f].value_counts().to_frame().reset_index().rename(columns={'index':'char_value',char_f:'good_count'})\n",
    "            # 坏样本统计\n",
    "            bad_df = df[df[label]==1]\n",
    "            bad_count = bad_df[char_f].value_counts().to_frame().reset_index().rename(columns={'index':'char_value',char_f:'bad_count'})\n",
    "            # 整合\n",
    "            result_df = pd.merge(good_count, bad_count, on=['char_value'])\n",
    "            result_df['good_rate'] = result_df.good_count/result_df.good_count.sum() # 好客户的占比\n",
    "            result_df['bad_rate'] = result_df.bad_count/result_df.bad_count.sum() # 坏客户的占比\n",
    "            result_df['cum_good_rate'] = result_df.good_rate.cumsum()\n",
    "            result_df['cum_bad_rate'] = result_df.bad_rate.cumsum()\n",
    "            # 计算ks\n",
    "            result_df['ks'] = round(abs(result_df.cum_good_rate - result_df.cum_bad_rate), 4)\n",
    "            # 计算woe(优势比):ln(好客户的占比/坏客户的占比)*100%\n",
    "            result_df['woe'] = np.log(result_df.good_rate/result_df.bad_rate)\n",
    "            result_df['iv'] = (result_df.good_rate-result_df.bad_rate)*(result_df.woe)\n",
    "            feature_iv = result_df.iv.sum()\n",
    "            #print('feature_iv:',feature_iv)\n",
    "            #print(str(char_f + ':'), feature_iv)\n",
    "            all_feature_iv.append(feature_iv)\n",
    "    feature_iv = pd.Series(all_feature_iv).to_frame().rename(columns={0:'feature_iv'})\n",
    "    feature_name = pd.Series(char_feature_name).to_frame().rename(columns={0:'feature_name'})\n",
    "    feature_name_iv = pd.concat([feature_name, feature_iv], axis=1)\n",
    "    return feature_name_iv\n",
    "\n",
    "def get_result_iv(feature_name_iv):\n",
    "    # 特征iv值：评价指标\n",
    "    #    a.iv<0.02, 预测效果：无明显；\n",
    "    #    b.0.02=<iv<0.1, 预测效果：弱； \n",
    "    #    c.0.1=<iv<0.3, 预测效果：中等；\n",
    "    #    d.0.3=<iv<0.5, 预测效果：强；\n",
    "    #    e.0.5=<iv, 预测效果：需考虑；\n",
    "    feature_sel = feature_name_iv[feature_name_iv.feature_iv<0.5]\n",
    "    return feature_sel   "
   ]
  },
  {
   "cell_type": "code",
   "execution_count": 186,
   "metadata": {},
   "outputs": [
    {
     "name": "stdout",
     "output_type": "stream",
     "text": [
      "(31534, 6) \n",
      "计算离散特征的iv值:\n"
     ]
    },
    {
     "data": {
      "text/html": [
       "<div>\n",
       "<style scoped>\n",
       "    .dataframe tbody tr th:only-of-type {\n",
       "        vertical-align: middle;\n",
       "    }\n",
       "\n",
       "    .dataframe tbody tr th {\n",
       "        vertical-align: top;\n",
       "    }\n",
       "\n",
       "    .dataframe thead th {\n",
       "        text-align: right;\n",
       "    }\n",
       "</style>\n",
       "<table border=\"1\" class=\"dataframe\">\n",
       "  <thead>\n",
       "    <tr style=\"text-align: right;\">\n",
       "      <th></th>\n",
       "      <th>feature_name</th>\n",
       "      <th>feature_iv</th>\n",
       "    </tr>\n",
       "  </thead>\n",
       "  <tbody>\n",
       "    <tr>\n",
       "      <th>0</th>\n",
       "      <td>emp_length</td>\n",
       "      <td>0.013553</td>\n",
       "    </tr>\n",
       "    <tr>\n",
       "      <th>1</th>\n",
       "      <td>home_ownership</td>\n",
       "      <td>0.009319</td>\n",
       "    </tr>\n",
       "    <tr>\n",
       "      <th>2</th>\n",
       "      <td>verification_status</td>\n",
       "      <td>0.008974</td>\n",
       "    </tr>\n",
       "    <tr>\n",
       "      <th>3</th>\n",
       "      <td>purpose</td>\n",
       "      <td>0.089033</td>\n",
       "    </tr>\n",
       "    <tr>\n",
       "      <th>4</th>\n",
       "      <td>addr_state</td>\n",
       "      <td>0.049407</td>\n",
       "    </tr>\n",
       "  </tbody>\n",
       "</table>\n",
       "</div>"
      ],
      "text/plain": [
       "          feature_name  feature_iv\n",
       "0           emp_length    0.013553\n",
       "1       home_ownership    0.009319\n",
       "2  verification_status    0.008974\n",
       "3              purpose    0.089033\n",
       "4           addr_state    0.049407"
      ]
     },
     "execution_count": 186,
     "metadata": {},
     "output_type": "execute_result"
    }
   ],
   "source": [
    "# 所有特征的iv值\n",
    "feature_name_iv = char_feature_iv(char_df, label='y')\n",
    "# 获取iv值小于0.5的特征\n",
    "feature_sel = get_result_iv(feature_name_iv)\n",
    "feature_sel"
   ]
  },
  {
   "cell_type": "code",
   "execution_count": 193,
   "metadata": {},
   "outputs": [
    {
     "data": {
      "text/plain": [
       "(31534, 16)"
      ]
     },
     "execution_count": 193,
     "metadata": {},
     "output_type": "execute_result"
    }
   ],
   "source": [
    "# 3.2 连续性特征\n",
    "df_s[num_feature].shape"
   ]
  },
  {
   "cell_type": "code",
   "execution_count": null,
   "metadata": {},
   "outputs": [],
   "source": []
  }
 ],
 "metadata": {
  "kernelspec": {
   "display_name": "Python 3",
   "language": "python",
   "name": "python3"
  },
  "language_info": {
   "codemirror_mode": {
    "name": "ipython",
    "version": 3
   },
   "file_extension": ".py",
   "mimetype": "text/x-python",
   "name": "python",
   "nbconvert_exporter": "python",
   "pygments_lexer": "ipython3",
   "version": "3.7.0"
  }
 },
 "nbformat": 4,
 "nbformat_minor": 2
}
